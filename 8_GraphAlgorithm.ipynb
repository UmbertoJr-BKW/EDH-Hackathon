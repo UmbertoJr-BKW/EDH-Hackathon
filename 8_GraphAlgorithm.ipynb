{
 "cells": [
  {
   "cell_type": "code",
   "execution_count": 1,
   "metadata": {},
   "outputs": [
    {
     "name": "stdout",
     "output_type": "stream",
     "text": [
      "Libraries imported successfully.\n",
      "Successfully loaded network data.\n",
      "\n",
      "Created new datetime index from 2050-01-01 00:00:00 to 2050-12-30 23:45:00\n",
      "Successfully loaded and indexed all profiles data.\n",
      "Successfully loaded grid reinforcement costs.\n",
      "\n",
      "Successfully calculated the combined net load profile for all customers.\n"
     ]
    }
   ],
   "source": [
    "import os\n",
    "import pandas as pd\n",
    "import numpy as np\n",
    "import networkx as nx\n",
    "import time\n",
    "import plotly.graph_objects as go\n",
    "from plotly.subplots import make_subplots\n",
    "import ipywidgets as widgets\n",
    "from IPython.display import display, clear_output\n",
    "from src.visualization import (\n",
    "    visualize_network_topology,\n",
    "    visualize_grid_improvement,\n",
    "    visualize_network_with_failures\n",
    ")\n",
    "from src.functions import (\n",
    "    build_and_simplify_network,\n",
    "    find_failures_with_yearly_profile,\n",
    "    suggest_grid_reinforcement,\n",
    "    print_analysis_results,\n",
    "    update_and_save_parquet\n",
    ")\n",
    "\n",
    "print(\"Libraries imported successfully.\")\n",
    "\n",
    "# Loading and Preparing the Data ---\n",
    "data_path = \"../blob-account-edh/challenge-data/\"\n",
    "\n",
    "# Load network topology data\n",
    "file_path = data_path + \"250903_all_stations_anon.csv\"\n",
    "df_full = pd.read_csv(file_path, sep=\";\")\n",
    "print(\"Successfully loaded network data.\")\n",
    "\n",
    "# Load and index all yearly profiles (15-min intervals)\n",
    "profiles_path = data_path + \"data_parquet/\"\n",
    "df_consumption = pd.read_parquet(profiles_path + \"base_consumption.parquet\").set_index('timestamp')\n",
    "df_pv = pd.read_parquet(profiles_path + \"pv_profiles.parquet\").set_index('timestamp')\n",
    "df_ev = pd.read_parquet(profiles_path + \"ev_profiles.parquet\").set_index('timestamp')\n",
    "df_hp = pd.read_parquet(profiles_path + \"hp_profiles.parquet\").set_index('timestamp')\n",
    "\n",
    "# Data Preparation and Timestamp Mapping\n",
    "profiles = {\"Consumption\": df_consumption, \"PV\": df_pv, \"EV\": df_ev, \"HP\": df_hp}\n",
    "num_periods = len(df_consumption.index)\n",
    "datetime_index = pd.date_range(start='2050-01-01', periods=num_periods, freq='15min')\n",
    "for df in profiles.values():\n",
    "    df.index = datetime_index\n",
    "print(f\"\\nCreated new datetime index from {datetime_index.min()} to {datetime_index.max()}\")\n",
    "print(\"Successfully loaded and indexed all profiles data.\")\n",
    "\n",
    "# Load reinforcement costs for comparison\n",
    "df_reinforcement = pd.read_csv(data_path + \"190923_Einheitskosten_Invest.csv\")\n",
    "print(\"Successfully loaded grid reinforcement costs.\")\n",
    "\n",
    "# Calculate the Net Load\n",
    "# Net Load = (Consumption + EV + HP) - PV Generation\n",
    "# Note: PV generation is positive, so we subtract it. A negative net load means the customer is exporting power.\n",
    "NOMINAL_VOLTAGE = 400.0\n",
    "df_net_load = df_consumption.add(df_ev, fill_value=0).add(df_hp, fill_value=0).subtract(df_pv, fill_value=0)\n",
    "#df_net_load = df_consumption.subtract(df_pv, fill_value=0)\n",
    "print(\"\\nSuccessfully calculated the combined net load profile for all customers.\")"
   ]
  },
  {
   "cell_type": "code",
   "execution_count": 2,
   "metadata": {},
   "outputs": [
    {
     "data": {
      "application/vnd.jupyter.widget-view+json": {
       "model_id": "7d4354c273844e34a0fb6c97ecd44b43",
       "version_major": 2,
       "version_minor": 0
      },
      "text/plain": [
       "Dropdown(description='Select Station:', options=('station_1', 'station_2', 'station_3', 'station_4', 'station_…"
      ]
     },
     "metadata": {},
     "output_type": "display_data"
    },
    {
     "data": {
      "application/vnd.jupyter.widget-view+json": {
       "model_id": "30900347380f4c0cab658fccfa9ab79f",
       "version_major": 2,
       "version_minor": 0
      },
      "text/plain": [
       "Output()"
      ]
     },
     "metadata": {},
     "output_type": "display_data"
    },
    {
     "data": {
      "application/vnd.plotly.v1+json": {
       "config": {
        "plotlyServerURL": "https://plot.ly"
       },
       "data": [
        {
         "hoverinfo": "none",
         "line": {
          "color": "grey",
          "width": 2
         },
         "mode": "lines",
         "name": "Link (Unchanged)",
         "type": "scatter",
         "x": [
          2.713450738094036,
          2.4103903038259866,
          null,
          8.303449775574778,
          8.28043707312686,
          null,
          8.28043707312686,
          8.431745338451575,
          null,
          8.28043707312686,
          8.126738431526569,
          null,
          8.431745338451575,
          8.554654308535557,
          null,
          8.126738431526569,
          8,
          null,
          8,
          8.397517425958563,
          null,
          8,
          8.218932675205632,
          null,
          8,
          8.485722112491056,
          null,
          8,
          2,
          null,
          8.7164495017904,
          8.397517425958563,
          null,
          6.05985456200552,
          5.968270240698163,
          null,
          5.968270240698163,
          5.813806666672442,
          null,
          5.968270240698163,
          6,
          null,
          6,
          8.022458330410648,
          null,
          6,
          6.18365855916197,
          null,
          6,
          5.834659385644154,
          null,
          1.7710378650617968,
          2,
          null,
          2,
          1.697412065429646,
          null,
          2,
          1.1464554067749682,
          null,
          2,
          1.9878561177883802,
          null,
          1.1464554067749682,
          0.5904678897485233,
          null,
          1.1464554067749682,
          0.5967561621552511,
          null,
          0.5967561621552511,
          0.16305151080287728,
          null,
          0.5967561621552511,
          0.3266959274743837,
          null,
          -0.1508647331707032,
          0.16305151080287728,
          null,
          3.7185993098443637,
          4,
          null,
          4,
          3.726290759345325,
          null,
          4,
          4.120204821460255,
          null,
          7.026899953007499,
          6.8259198494441895,
          null,
          7.614241227928058,
          7.897565027834033,
          null,
          8.625034485600885,
          8.296236153051579,
          null,
          8.828345646742047,
          9.273798805203715,
          null,
          9.273798805203715,
          9.610635465488373,
          null,
          8.222053473564557,
          8.022458330410648,
          null,
          8.022458330410648,
          10,
          null,
          6.641328494441535,
          6.335762262880478,
          null,
          6.335762262880478,
          6.207465046577598,
          null,
          6.335762262880478,
          6.57961202139838,
          null,
          6.335762262880478,
          6.68784052738918,
          null,
          5.324608903282149,
          5.397943776588514,
          null,
          5.397943776588514,
          5.455628977419753,
          null,
          5.397943776588514,
          5.506726688874157,
          null,
          5.397943776588514,
          4.882767400296936,
          null,
          5.397943776588514,
          5.102903220029116,
          null,
          5.480995326599261,
          5.473562592933371,
          null,
          5.473562592933371,
          5.455628977419753,
          null,
          -0.40005899278955387,
          0,
          null,
          0,
          -0.11479368210208951,
          null,
          0,
          -0.30387951655716905,
          null,
          0,
          -0.4329205395638479,
          null,
          0,
          -0.3115795192909826,
          null,
          8.447514378494494,
          8.218932675205632,
          null,
          8.868078799334452,
          8.485722112491056,
          null
         ],
         "y": [
          2.6685779542051575,
          2.904044544036903,
          null,
          -0.9886057957529341,
          -0.6335266332923774,
          null,
          -0.6335266332923774,
          -1.2038226976396051,
          null,
          -0.6335266332923774,
          0.14766816406622563,
          null,
          -1.2038226976396051,
          -1.6031878824640868,
          null,
          0.14766816406622563,
          1,
          null,
          1,
          0.6596513558504211,
          null,
          1,
          0.5092139603870979,
          null,
          1,
          1.1062117400658487,
          null,
          1,
          1,
          null,
          0.4115020622379929,
          0.6596513558504211,
          null,
          0.05793374042304512,
          0.4293371026539092,
          null,
          0.4293371026539092,
          0.0519414354555163,
          null,
          0.4293371026539092,
          1,
          null,
          1,
          1.051008032261439,
          null,
          1,
          0.7691164401193143,
          null,
          1,
          0.7411458305494627,
          null,
          0.6940222984701893,
          1,
          null,
          1,
          0.9164844720820753,
          null,
          1,
          1.6158819261221975,
          null,
          1,
          0.6681050674855281,
          null,
          1.6158819261221975,
          1.8182571372235308,
          null,
          1.6158819261221975,
          2.2461520737978597,
          null,
          2.2461520737978597,
          2.7256834805562717,
          null,
          2.2461520737978597,
          2.5069206217376103,
          null,
          3.041992183795842,
          2.7256834805562717,
          null,
          0.9755661527512565,
          1,
          null,
          1,
          0.738697088152233,
          null,
          1,
          0.7144568469064806,
          null,
          1.5291965963730492,
          1.6059801041654649,
          null,
          2.249335827034966,
          2.392182278594228,
          null,
          2.9605805739032744,
          2.8290927553021743,
          null,
          3.333505152399505,
          3.605289761978819,
          null,
          3.605289761978819,
          3.8446451215012996,
          null,
          1.2498517313717894,
          1.051008032261439,
          null,
          1.051008032261439,
          1,
          null,
          3.7670329161654514,
          3.240933628180994,
          null,
          3.240933628180994,
          3.511541002011013,
          null,
          3.240933628180994,
          3.1624888836573537,
          null,
          3.240933628180994,
          3.397627761173633,
          null,
          4.326118359453908,
          3.7699115257885816,
          null,
          3.7699115257885816,
          4.539028291955632,
          null,
          3.7699115257885816,
          4.039143012211808,
          null,
          3.7699115257885816,
          4.122653014242771,
          null,
          3.7699115257885816,
          3.7772763815480284,
          null,
          5.604654534510714,
          5.1563122822499325,
          null,
          5.1563122822499325,
          4.539028291955632,
          null,
          1.1323019577101863,
          1,
          null,
          1,
          0.6518655566102658,
          null,
          1,
          0.9477361690894398,
          null,
          1,
          0.8557258328489764,
          null,
          1,
          0.6925642832901484,
          null,
          0.14227756173021816,
          0.5092139603870979,
          null,
          1.18237205846471,
          1.1062117400658487,
          null
         ]
        },
        {
         "hoverinfo": "none",
         "line": {
          "color": "red",
          "width": 6
         },
         "mode": "lines",
         "name": "Link (Overloaded)",
         "type": "scatter",
         "x": [
          2.713450738094036,
          3.0792935047103054,
          null,
          2.713450738094036,
          2.585202187519695,
          null,
          3.0792935047103054,
          3.5180545640666168,
          null,
          3.5180545640666168,
          4,
          null,
          9.016461495225776,
          8.571816946424992,
          null,
          8.571816946424992,
          8,
          null,
          6,
          6.8259198494441895,
          null,
          6,
          5.723866003299693,
          null,
          6,
          0,
          null,
          6,
          4,
          null,
          6,
          2,
          null,
          6,
          5.85888360555777,
          null,
          0.8821513979497555,
          1.1464554067749682,
          null,
          0.5904678897485233,
          0.24853901908207998,
          null,
          0.5904678897485233,
          0.24355368054498955,
          null,
          4,
          3.91247314387584,
          null,
          6.8259198494441895,
          7.614241227928058,
          null,
          7.614241227928058,
          8.296236153051579,
          null,
          8.296236153051579,
          8.828345646742047,
          null,
          8.828345646742047,
          9.007389619445238,
          null,
          10,
          10.39816602030303,
          null,
          6.860054735510728,
          6.641328494441535,
          null,
          6.335762262880478,
          6.463129412541704,
          null,
          6.335762262880478,
          5.85888360555777,
          null,
          5.244881101335836,
          5.324608903282149,
          null,
          5.397943776588514,
          5.85888360555777,
          null,
          5.397943776588514,
          5.093513370543576,
          null,
          4.882767400296936,
          4.54695882908697,
          null,
          5.093513370543576,
          4.869132693024327,
          null
         ],
         "y": [
          2.6685779542051575,
          2.144385422127715,
          null,
          2.6685779542051575,
          3.030892275051995,
          null,
          2.144385422127715,
          1.5616381793131604,
          null,
          1.5616381793131604,
          1,
          null,
          0.6910493027952018,
          0.8347160559987388,
          null,
          0.8347160559987388,
          1,
          null,
          1,
          1.6059801041654649,
          null,
          1,
          0.9868167386589408,
          null,
          1,
          1,
          null,
          1,
          1,
          null,
          1,
          1,
          null,
          1,
          2.519554494302504,
          null,
          1.4903757413502583,
          1.6158819261221975,
          null,
          1.8182571372235308,
          1.7807881916408135,
          null,
          1.8182571372235308,
          1.9862316397072781,
          null,
          1,
          0.6186924847615178,
          null,
          1.6059801041654649,
          2.249335827034966,
          null,
          2.249335827034966,
          2.8290927553021743,
          null,
          2.8290927553021743,
          3.333505152399505,
          null,
          3.333505152399505,
          3.645297390154226,
          null,
          1,
          0.9377452847626502,
          null,
          4.149461147570108,
          3.7670329161654514,
          null,
          3.240933628180994,
          3.548768033003558,
          null,
          3.240933628180994,
          2.519554494302504,
          null,
          4.754462142272225,
          4.326118359453908,
          null,
          3.7699115257885816,
          2.519554494302504,
          null,
          3.7699115257885816,
          4.27892693376741,
          null,
          4.122653014242771,
          4.372247463553543,
          null,
          4.27892693376741,
          4.668114824205301,
          null
         ]
        },
        {
         "hoverinfo": "text",
         "marker": {
          "opacity": 0,
          "size": 15
         },
         "mode": "markers",
         "showlegend": false,
         "text": [
          "<b>🚨 OVERLOADED LINK 🚨</b><br>Connection: FLU0000001_node-FLU0000022_node<br>Link Length: 135.7 m<br><br>Max Allowed: 165.00 A<br>Calculated Peak: 216.50 A<br><b>Overload: 31.2%</b>",
          "Connection: FLU0000001_node-HAS0000164_node<br>Link Length: 20.5 m<br>Aggregated Imax: 125.00 A",
          "<b>🚨 OVERLOADED LINK 🚨</b><br>Connection: FLU0000001_node-HAS0000165_node<br>Link Length: 27.6 m<br><br>Max Allowed: 125.00 A<br>Calculated Peak: 170.10 A<br><b>Overload: 36.1%</b>",
          "<b>🚨 OVERLOADED LINK 🚨</b><br>Connection: FLU0000022_node-MUF0001006_node<br>Link Length: 5.2 m<br><br>Max Allowed: 119.00 A<br>Calculated Peak: 216.50 A<br><b>Overload: 81.9%</b>",
          "<b>🚨 OVERLOADED LINK 🚨</b><br>Connection: MUF0001006_node-PIN0000224_node<br>Link Length: 37.7 m<br><br>Max Allowed: 119.00 A<br>Calculated Peak: 216.50 A<br><b>Overload: 81.9%</b>",
          "Connection: HAS0000002_node-MUF0000004_node<br>Link Length: 66.0 m<br>Aggregated Imax: 56.00 A",
          "Connection: MUF0000004_node-MUF0001004_node<br>Link Length: 35.2 m<br>Aggregated Imax: 94.50 A",
          "Connection: MUF0000004_node-MUF0001010_node<br>Link Length: 74.9 m<br>Aggregated Imax: 175.00 A",
          "Connection: MUF0001004_node-HAS0000003_node<br>Link Length: 22.1 m<br>Aggregated Imax: 119.00 A",
          "Connection: MUF0001010_node-PIN0000225_node<br>Link Length: 21.5 m<br>Aggregated Imax: 175.00 A",
          "<b>🚨 OVERLOADED LINK 🚨</b><br>Connection: HAS0000005_node-MUF0000200_node<br>Link Length: 48.7 m<br><br>Max Allowed: 69.00 A<br>Calculated Peak: 71.17 A<br><b>Overload: 3.1%</b>",
          "<b>🚨 OVERLOADED LINK 🚨</b><br>Connection: MUF0000200_node-PIN0000225_node<br>Link Length: 21.5 m<br><br>Max Allowed: 69.00 A<br>Calculated Peak: 71.17 A<br><b>Overload: 3.1%</b>",
          "Connection: PIN0000225_node-MUF0000193_node<br>Link Length: 14.7 m<br>Aggregated Imax: 69.00 A",
          "Connection: PIN0000225_node-MUF0000197_node<br>Link Length: 50.8 m<br>Aggregated Imax: 119.00 A",
          "Connection: PIN0000225_node-MUF0001009_node<br>Link Length: 21.5 m<br>Aggregated Imax: 119.00 A",
          "Connection: PIN0000225_node-PIN0000226_node<br>Link Length: 65.3 m<br>Aggregated Imax: 175.00 A",
          "Connection: HAS0000006_node-MUF0000193_node<br>Link Length: 3.2 m<br>Aggregated Imax: 56.00 A",
          "Connection: HAS0000007_node-MUF0000009_node<br>Link Length: 4.8 m<br>Aggregated Imax: 42.00 A",
          "Connection: MUF0000009_node-HAS0000008_node<br>Link Length: 14.2 m<br>Aggregated Imax: 69.00 A",
          "Connection: MUF0000009_node-PIN0000154_node<br>Link Length: 94.3 m<br>Aggregated Imax: 140.00 A",
          "<b>🚨 OVERLOADED LINK 🚨</b><br>Connection: PIN0000154_node-MUF0000030_node<br>Link Length: 44.3 m<br><br>Max Allowed: 140.00 A<br>Calculated Peak: 226.21 A<br><b>Overload: 61.6%</b>",
          "<b>🚨 OVERLOADED LINK 🚨</b><br>Connection: PIN0000154_node-HAS0000034_node<br>Link Length: 9.1 m<br><br>Max Allowed: 204.00 A<br>Calculated Peak: 260.10 A<br><b>Overload: 27.5%</b>",
          "Connection: PIN0000154_node-MUF0000184_node<br>Link Length: 92.2 m<br>Aggregated Imax: 171.50 A",
          "Connection: PIN0000154_node-HAS0000043_node<br>Link Length: 37.5 m<br>Aggregated Imax: 119.00 A",
          "Connection: PIN0000154_node-HAS0000048_node<br>Link Length: 2.2 m<br>Aggregated Imax: 2000.00 A",
          "<b>🚨 OVERLOADED LINK 🚨</b><br>Connection: PIN0000154_node-PIN0000223_node<br>Link Length: 182.5 m<br><br>Max Allowed: 383.00 A<br>Calculated Peak: 2006.18 A<br><b>Overload: 423.8%</b>",
          "<b>🚨 OVERLOADED LINK 🚨</b><br>Connection: PIN0000154_node-PIN0000224_node<br>Link Length: 92.8 m<br><br>Max Allowed: 266.00 A<br>Calculated Peak: 457.73 A<br><b>Overload: 72.1%</b>",
          "<b>🚨 OVERLOADED LINK 🚨</b><br>Connection: PIN0000154_node-PIN0000226_node<br>Link Length: 140.3 m<br><br>Max Allowed: 266.00 A<br>Calculated Peak: 414.72 A<br><b>Overload: 55.9%</b>",
          "<b>🚨 OVERLOADED LINK 🚨</b><br>Connection: PIN0000154_node-ABG0000137_node<br>Link Length: 127.0 m<br><br>Max Allowed: 195.00 A<br>Calculated Peak: 594.45 A<br><b>Overload: 204.8%</b>",
          "Connection: HAS0000010_node-PIN0000226_node<br>Link Length: 23.4 m<br>Aggregated Imax: 119.00 A",
          "Connection: PIN0000226_node-HAS0000011_node<br>Link Length: 37.6 m<br>Aggregated Imax: 69.00 A",
          "Connection: PIN0000226_node-MUF0000013_node<br>Link Length: 57.5 m<br>Aggregated Imax: 195.00 A",
          "Connection: PIN0000226_node-HAS0000163_node<br>Link Length: 47.5 m<br>Aggregated Imax: 119.00 A",
          "<b>🚨 OVERLOADED LINK 🚨</b><br>Connection: HAS0000012_node-MUF0000013_node<br>Link Length: 9.7 m<br><br>Max Allowed: 56.00 A<br>Calculated Peak: 60.29 A<br><b>Overload: 7.7%</b>",
          "Connection: MUF0000013_node-MUF0001005_node<br>Link Length: 20.3 m<br>Aggregated Imax: 140.00 A",
          "Connection: MUF0000013_node-ABG0000078_node<br>Link Length: 20.7 m<br>Aggregated Imax: 140.00 A",
          "<b>🚨 OVERLOADED LINK 🚨</b><br>Connection: MUF0001005_node-HAS0000014_node<br>Link Length: 46.5 m<br><br>Max Allowed: 56.00 A<br>Calculated Peak: 91.01 A<br><b>Overload: 62.5%</b>",
          "<b>🚨 OVERLOADED LINK 🚨</b><br>Connection: MUF0001005_node-HAS0000015_node<br>Link Length: 7.7 m<br><br>Max Allowed: 56.00 A<br>Calculated Peak: 70.37 A<br><b>Overload: 25.7%</b>",
          "Connection: ABG0000078_node-MUF0000017_node<br>Link Length: 113.9 m<br>Aggregated Imax: 69.00 A",
          "Connection: ABG0000078_node-HAS0000166_node<br>Link Length: 28.9 m<br>Aggregated Imax: 119.00 A",
          "Connection: HAS0000016_node-MUF0000017_node<br>Link Length: 621.8 m<br>Aggregated Imax: 69.00 A",
          "Connection: HAS0000018_node-PIN0000224_node<br>Link Length: 61.1 m<br>Aggregated Imax: 119.00 A",
          "<b>🚨 OVERLOADED LINK 🚨</b><br>Connection: PIN0000224_node-HAS0000019_node<br>Link Length: 30.6 m<br><br>Max Allowed: 119.00 A<br>Calculated Peak: 170.61 A<br><b>Overload: 43.4%</b>",
          "Connection: PIN0000224_node-HAS0000020_node<br>Link Length: 31.1 m<br>Aggregated Imax: 119.00 A",
          "Connection: PIN0000224_node-HAS0000021_node<br>Link Length: 13.5 m<br>Aggregated Imax: 119.00 A",
          "Connection: HAS0000024_node-MUF0000030_node<br>Link Length: 4.3 m<br>Aggregated Imax: 94.50 A",
          "<b>🚨 OVERLOADED LINK 🚨</b><br>Connection: MUF0000030_node-MUF0001007_node<br>Link Length: 37.5 m<br><br>Max Allowed: 140.00 A<br>Calculated Peak: 217.62 A<br><b>Overload: 55.4%</b>",
          "<b>🚨 OVERLOADED LINK 🚨</b><br>Connection: MUF0001007_node-MUF0000028_node<br>Link Length: 15.8 m<br><br>Max Allowed: 140.00 A<br>Calculated Peak: 215.97 A<br><b>Overload: 54.3%</b>",
          "Connection: MUF0001007_node-HAS0000029_node<br>Link Length: 11.1 m<br>Aggregated Imax: 56.00 A",
          "Connection: HAS0000026_node-MUF0000028_node<br>Link Length: 7.4 m<br>Aggregated Imax: 56.00 A",
          "<b>🚨 OVERLOADED LINK 🚨</b><br>Connection: MUF0000028_node-MUF0000032_node<br>Link Length: 36.0 m<br><br>Max Allowed: 140.00 A<br>Calculated Peak: 213.71 A<br><b>Overload: 52.6%</b>",
          "<b>🚨 OVERLOADED LINK 🚨</b><br>Connection: MUF0000032_node-HAS0000027_node<br>Link Length: 1.9 m<br><br>Max Allowed: 77.00 A<br>Calculated Peak: 186.64 A<br><b>Overload: 142.4%</b>",
          "Connection: MUF0000032_node-MUF0000033_node<br>Link Length: 18.7 m<br>Aggregated Imax: 140.00 A",
          "Connection: MUF0000033_node-HAS0000031_node<br>Link Length: 4.0 m<br>Aggregated Imax: 94.50 A",
          "Connection: HAS0000035_node-MUF0000184_node<br>Link Length: 6.9 m<br>Aggregated Imax: 140.00 A",
          "Connection: MUF0000184_node-PIN0000227_node<br>Link Length: 34.7 m<br>Aggregated Imax: 171.50 A",
          "<b>🚨 OVERLOADED LINK 🚨</b><br>Connection: PIN0000227_node-HAS0000042_node<br>Link Length: 1.7 m<br><br>Max Allowed: 79.00 A<br>Calculated Peak: 138.20 A<br><b>Overload: 74.9%</b>",
          "<b>🚨 OVERLOADED LINK 🚨</b><br>Connection: HAS0000037_node-MUF0000049_node<br>Link Length: 4.8 m<br><br>Max Allowed: 42.00 A<br>Calculated Peak: 60.83 A<br><b>Overload: 44.8%</b>",
          "Connection: MUF0000049_node-ABG0000152_node<br>Link Length: 41.6 m<br>Aggregated Imax: 69.00 A",
          "Connection: ABG0000152_node-HAS0000050_node<br>Link Length: 7.7 m<br>Aggregated Imax: 69.00 A",
          "<b>🚨 OVERLOADED LINK 🚨</b><br>Connection: ABG0000152_node-HAS0000167_node<br>Link Length: 7.5 m<br><br>Max Allowed: 69.00 A<br>Calculated Peak: 91.72 A<br><b>Overload: 32.9%</b>",
          "Connection: ABG0000152_node-HAS0000169_node<br>Link Length: 58.3 m<br>Aggregated Imax: 69.00 A",
          "Connection: ABG0000152_node-HAS0000168_node<br>Link Length: 32.2 m<br>Aggregated Imax: 69.00 A",
          "<b>🚨 OVERLOADED LINK 🚨</b><br>Connection: ABG0000152_node-ABG0000137_node<br>Link Length: 25.8 m<br><br>Max Allowed: 175.00 A<br>Calculated Peak: 218.72 A<br><b>Overload: 25.0%</b>",
          "<b>🚨 OVERLOADED LINK 🚨</b><br>Connection: HAS0000038_node-MUF0000052_node<br>Link Length: 13.1 m<br><br>Max Allowed: 56.00 A<br>Calculated Peak: 75.72 A<br><b>Overload: 35.2%</b>",
          "Connection: MUF0000052_node-ABG0000053_node<br>Link Length: 19.2 m<br>Aggregated Imax: 119.00 A",
          "Connection: ABG0000053_node-MUF0000040_node<br>Link Length: 34.8 m<br>Aggregated Imax: 266.00 A",
          "Connection: ABG0000053_node-HAS0000051_node<br>Link Length: 48.3 m<br>Aggregated Imax: 107.00 A",
          "Connection: ABG0000053_node-MUF0001062_node<br>Link Length: 19.2 m<br>Aggregated Imax: 119.00 A",
          "Connection: ABG0000053_node-HAS0000161_node<br>Link Length: 38.7 m<br>Aggregated Imax: 119.00 A",
          "<b>🚨 OVERLOADED LINK 🚨</b><br>Connection: ABG0000053_node-ABG0000137_node<br>Link Length: 105.1 m<br><br>Max Allowed: 386.00 A<br>Calculated Peak: 389.10 A<br><b>Overload: 0.8%</b>",
          "<b>🚨 OVERLOADED LINK 🚨</b><br>Connection: ABG0000053_node-MUF0001061_node<br>Link Length: 14.0 m<br><br>Max Allowed: 119.00 A<br>Calculated Peak: 120.64 A<br><b>Overload: 1.4%</b>",
          "Connection: HAS0000039_node-MUF0001008_node<br>Link Length: 5.6 m<br>Aggregated Imax: 94.50 A",
          "Connection: MUF0001008_node-MUF0000040_node<br>Link Length: 66.6 m<br>Aggregated Imax: 266.00 A",
          "Connection: HAS0000041_node-PIN0000223_node<br>Link Length: 68.5 m<br>Aggregated Imax: 175.00 A",
          "Connection: PIN0000223_node-HAS0000162_node<br>Link Length: 37.2 m<br>Aggregated Imax: 119.00 A",
          "Connection: PIN0000223_node-HAS0000174_node<br>Link Length: 31.9 m<br>Aggregated Imax: 175.00 A",
          "Connection: PIN0000223_node-HAS0000173_node<br>Link Length: 34.5 m<br>Aggregated Imax: 69.00 A",
          "Connection: PIN0000223_node-HAS0000172_node<br>Link Length: 12.6 m<br>Aggregated Imax: 175.00 A",
          "Connection: HAS0000044_node-MUF0000197_node<br>Link Length: 8.4 m<br>Aggregated Imax: 77.00 A",
          "Connection: HAS0000045_node-MUF0001009_node<br>Link Length: 70.7 m<br>Aggregated Imax: 119.00 A",
          "<b>🚨 OVERLOADED LINK 🚨</b><br>Connection: MUF0001062_node-HAS0000171_node<br>Link Length: 5.6 m<br><br>Max Allowed: 56.00 A<br>Calculated Peak: 79.93 A<br><b>Overload: 42.7%</b>",
          "<b>🚨 OVERLOADED LINK 🚨</b><br>Connection: MUF0001061_node-HAS0000170_node<br>Link Length: 10.4 m<br><br>Max Allowed: 56.00 A<br>Calculated Peak: 120.64 A<br><b>Overload: 115.4%</b>"
         ],
         "type": "scatter",
         "x": [
          2.8963721214021705,
          2.5619205209600113,
          2.6493264628068656,
          3.298674034388461,
          3.7590272820333084,
          8.29194342435082,
          8.356091205789218,
          8.203587752326715,
          8.493199823493566,
          8.063369215763284,
          8.794139220825384,
          8.285908473212496,
          8.19875871297928,
          8.109466337602816,
          8.242861056245527,
          5,
          8.55698346387448,
          6.014062401351842,
          5.891038453685303,
          5.984135120349082,
          6.412959924722095,
          5.861933001649847,
          7.011229165205324,
          6.091829279580985,
          5.9173296928220775,
          3,
          5,
          4,
          5.929441802778885,
          1.8855189325308985,
          1.848706032714823,
          1.573227703387484,
          1.9939280588941901,
          1.0143034023623618,
          0.8684616482617458,
          0.8716057844651096,
          0.4195034544153016,
          0.4170107851467564,
          0.37990383647906417,
          0.4617260448148174,
          0.006093388816087036,
          3.859299654922182,
          3.9562365719379198,
          3.8631453796726625,
          4.060102410730128,
          6.926409901225844,
          7.2200805386861235,
          7.955238690489818,
          7.755903127881045,
          8.460635319326233,
          8.562290899896812,
          8.917867633093643,
          9.05107222597288,
          9.442217135346045,
          8.122255901987604,
          9.011229165205325,
          10.199083010151515,
          6.750691614976132,
          6.488545378661007,
          6.2716136547290375,
          6.399445837711092,
          6.457687142139429,
          6.511801395134829,
          6.0973229342191235,
          5.284745002308993,
          5.361276339935332,
          5.426786377004134,
          5.452335232731336,
          5.140355588442725,
          5.250423498308815,
          5.628413691073142,
          5.245728573566045,
          5.477278959766316,
          5.464595785176562,
          -0.20002949639477693,
          -0.057396841051044756,
          -0.15193975827858452,
          -0.21646026978192395,
          -0.1557897596454913,
          8.333223526850063,
          8.676900455912754,
          4.714863114691953,
          4.981323031783951
         ],
         "y": [
          2.406481688166436,
          2.78631124912103,
          2.8497351146285763,
          1.853011800720438,
          1.28081908965658,
          -0.8110662145226557,
          -0.9186746654659912,
          -0.24292923461307586,
          -1.403505290051846,
          0.5738340820331128,
          0.7628826793969703,
          0.9173580279993694,
          0.8298256779252106,
          0.7546069801935489,
          1.0531058700329243,
          1,
          0.535576709044207,
          0.24363542153847714,
          0.24063926905471272,
          0.7146685513269546,
          1.3029900520827324,
          0.9934083693294704,
          1.0255040161307196,
          0.8845582200596571,
          0.8705729152747314,
          1,
          1,
          1,
          1.759777247151252,
          0.8470111492350947,
          0.9582422360410376,
          1.3079409630610987,
          0.834052533742764,
          1.553128833736228,
          1.7170695316728641,
          1.9310169999600286,
          1.799522664432172,
          1.9022443884654043,
          2.4859177771770655,
          2.3765363477677353,
          2.8838378321760567,
          0.9877830763756282,
          0.8093462423807589,
          0.8693485440761165,
          0.8572284234532404,
          1.567588350269257,
          1.9276579656002155,
          2.5392142911685704,
          2.320759052814597,
          2.8948366646027246,
          3.0812989538508395,
          3.489401271276866,
          3.469397457189162,
          3.724967441740059,
          1.1504298818166143,
          1.0255040161307196,
          0.9688726423813251,
          3.9582470318677796,
          3.5039832721732225,
          3.376237315096003,
          3.3948508305922758,
          3.201711255919174,
          3.3192806946773135,
          2.880244061241749,
          4.540290250863066,
          4.048014942621244,
          4.154469908872107,
          3.9045272690001944,
          3.9462822700156766,
          3.773593953668305,
          3.1447330100455426,
          4.024419229777996,
          5.380483408380323,
          4.847670287102782,
          1.0661509788550931,
          0.8259327783051329,
          0.9738680845447198,
          0.9278629164244883,
          0.8462821416450742,
          0.32574576105865805,
          1.1442918992652793,
          4.247450238898157,
          4.473520878986356
         ]
        },
        {
         "hoverinfo": "text",
         "marker": {
          "color": "#FFD700",
          "size": 22,
          "symbol": "star"
         },
         "mode": "markers",
         "name": "Root",
         "text": [
          "<b>ID: PIN0000225_node</b><br>Type: Network Root",
          "<b>ID: PIN0000154_node</b><br>Type: Network Root",
          "<b>ID: PIN0000226_node</b><br>Type: Network Root",
          "<b>ID: PIN0000224_node</b><br>Type: Network Root",
          "<b>ID: PIN0000227_node</b><br>Type: Network Root",
          "<b>ID: PIN0000223_node</b><br>Type: Network Root"
         ],
         "type": "scatter",
         "x": [
          8,
          6,
          2,
          4,
          10,
          0
         ],
         "y": [
          1,
          1,
          1,
          1,
          1,
          1
         ]
        },
        {
         "hoverinfo": "text",
         "marker": {
          "color": "grey",
          "size": 10
         },
         "mode": "markers",
         "name": "Junction",
         "text": [
          "<b>ID: FLU0000001_node</b><br>Type: Junction Point",
          "<b>ID: FLU0000022_node</b><br>Type: Junction Point",
          "<b>ID: MUF0001006_node</b><br>Type: Junction Point",
          "<b>ID: MUF0000004_node</b><br>Type: Junction Point",
          "<b>ID: MUF0001004_node</b><br>Type: Junction Point",
          "<b>ID: MUF0001010_node</b><br>Type: Junction Point",
          "<b>ID: MUF0000200_node</b><br>Type: Junction Point",
          "<b>ID: MUF0000193_node</b><br>Type: Junction Point",
          "<b>ID: MUF0000009_node</b><br>Type: Junction Point",
          "<b>ID: MUF0000013_node</b><br>Type: Junction Point",
          "<b>ID: MUF0001005_node</b><br>Type: Junction Point",
          "<b>ID: ABG0000078_node</b><br>Type: Junction Point",
          "<b>ID: MUF0000017_node</b><br>Type: Junction Point",
          "<b>ID: MUF0000030_node</b><br>Type: Junction Point",
          "<b>ID: MUF0001007_node</b><br>Type: Junction Point",
          "<b>ID: MUF0000028_node</b><br>Type: Junction Point",
          "<b>ID: MUF0000032_node</b><br>Type: Junction Point",
          "<b>ID: MUF0000033_node</b><br>Type: Junction Point",
          "<b>ID: MUF0000184_node</b><br>Type: Junction Point",
          "<b>ID: MUF0000049_node</b><br>Type: Junction Point",
          "<b>ID: ABG0000152_node</b><br>Type: Junction Point",
          "<b>ID: MUF0000052_node</b><br>Type: Junction Point",
          "<b>ID: ABG0000053_node</b><br>Type: Junction Point",
          "<b>ID: MUF0001008_node</b><br>Type: Junction Point",
          "<b>ID: MUF0000040_node</b><br>Type: Junction Point",
          "<b>ID: MUF0000197_node</b><br>Type: Junction Point",
          "<b>ID: MUF0001009_node</b><br>Type: Junction Point",
          "<b>ID: ABG0000137_node</b><br>Type: Junction Point",
          "<b>ID: MUF0001062_node</b><br>Type: Junction Point",
          "<b>ID: MUF0001061_node</b><br>Type: Junction Point"
         ],
         "type": "scatter",
         "x": [
          2.713450738094036,
          3.0792935047103054,
          3.5180545640666168,
          8.28043707312686,
          8.431745338451575,
          8.126738431526569,
          8.571816946424992,
          8.397517425958563,
          5.968270240698163,
          1.1464554067749682,
          0.5904678897485233,
          0.5967561621552511,
          0.16305151080287728,
          6.8259198494441895,
          7.614241227928058,
          8.296236153051579,
          8.828345646742047,
          9.273798805203715,
          8.022458330410648,
          6.641328494441535,
          6.335762262880478,
          5.324608903282149,
          5.397943776588514,
          5.473562592933371,
          5.455628977419753,
          8.218932675205632,
          8.485722112491056,
          5.85888360555777,
          4.882767400296936,
          5.093513370543576
         ],
         "y": [
          2.6685779542051575,
          2.144385422127715,
          1.5616381793131604,
          -0.6335266332923774,
          -1.2038226976396051,
          0.14766816406622563,
          0.8347160559987388,
          0.6596513558504211,
          0.4293371026539092,
          1.6158819261221975,
          1.8182571372235308,
          2.2461520737978597,
          2.7256834805562717,
          1.6059801041654649,
          2.249335827034966,
          2.8290927553021743,
          3.333505152399505,
          3.605289761978819,
          1.051008032261439,
          3.7670329161654514,
          3.240933628180994,
          4.326118359453908,
          3.7699115257885816,
          5.1563122822499325,
          4.539028291955632,
          0.5092139603870979,
          1.1062117400658487,
          2.519554494302504,
          4.122653014242771,
          4.27892693376741
         ]
        },
        {
         "hoverinfo": "text",
         "marker": {
          "color": "green",
          "size": [
           14,
           14,
           14,
           14,
           14,
           14,
           14,
           14,
           14,
           14,
           14,
           14,
           14,
           14,
           14,
           14,
           14,
           14,
           14,
           14,
           14,
           14,
           14,
           14,
           14,
           14,
           14,
           14,
           14,
           14,
           14,
           14,
           14,
           14,
           14,
           14,
           14
          ],
          "symbol": "square"
         },
         "mode": "markers",
         "name": "Consumer (OK)",
         "text": [
          "<b>ID: HAS0000164_node</b><br>Type: Consumer Node<br>Contained Consumers: 1",
          "<b>ID: HAS0000002_node</b><br>Type: Consumer Node<br>Contained Consumers: 1",
          "<b>ID: HAS0000003_node</b><br>Type: Consumer Node<br>Contained Consumers: 1",
          "<b>ID: HAS0000005_node</b><br>Type: Consumer Node<br>Contained Consumers: 1",
          "<b>ID: HAS0000006_node</b><br>Type: Consumer Node<br>Contained Consumers: 1",
          "<b>ID: HAS0000007_node</b><br>Type: Consumer Node<br>Contained Consumers: 1",
          "<b>ID: HAS0000008_node</b><br>Type: Consumer Node<br>Contained Consumers: 1",
          "<b>ID: HAS0000010_node</b><br>Type: Consumer Node<br>Contained Consumers: 1",
          "<b>ID: HAS0000011_node</b><br>Type: Consumer Node<br>Contained Consumers: 1",
          "<b>ID: HAS0000012_node</b><br>Type: Consumer Node<br>Contained Consumers: 1",
          "<b>ID: HAS0000015_node</b><br>Type: Consumer Node<br>Contained Consumers: 1",
          "<b>ID: HAS0000016_node</b><br>Type: Consumer Node<br>Contained Consumers: 1",
          "<b>ID: HAS0000166_node</b><br>Type: Consumer Node<br>Contained Consumers: 1",
          "<b>ID: HAS0000018_node</b><br>Type: Consumer Node<br>Contained Consumers: 1",
          "<b>ID: HAS0000019_node</b><br>Type: Consumer Node<br>Contained Consumers: 1",
          "<b>ID: HAS0000020_node</b><br>Type: Consumer Node<br>Contained Consumers: 1",
          "<b>ID: HAS0000024_node</b><br>Type: Consumer Node<br>Contained Consumers: 1",
          "<b>ID: HAS0000026_node</b><br>Type: Consumer Node<br>Contained Consumers: 1",
          "<b>ID: HAS0000029_node</b><br>Type: Consumer Node<br>Contained Consumers: 1",
          "<b>ID: HAS0000031_node</b><br>Type: Consumer Node<br>Contained Consumers: 1",
          "<b>ID: HAS0000035_node</b><br>Type: Consumer Node<br>Contained Consumers: 1",
          "<b>ID: HAS0000037_node</b><br>Type: Consumer Node<br>Contained Consumers: 1",
          "<b>ID: HAS0000039_node</b><br>Type: Consumer Node<br>Contained Consumers: 1",
          "<b>ID: HAS0000041_node</b><br>Type: Consumer Node<br>Contained Consumers: 1",
          "<b>ID: HAS0000042_node</b><br>Type: Consumer Node<br>Contained Consumers: 1",
          "<b>ID: HAS0000043_node</b><br>Type: Consumer Node<br>Contained Consumers: 1",
          "<b>ID: HAS0000044_node</b><br>Type: Consumer Node<br>Contained Consumers: 1",
          "<b>ID: HAS0000045_node</b><br>Type: Consumer Node<br>Contained Consumers: 1",
          "<b>ID: HAS0000048_node</b><br>Type: Consumer Node<br>Contained Consumers: 1",
          "<b>ID: HAS0000050_node</b><br>Type: Consumer Node<br>Contained Consumers: 1",
          "<b>ID: HAS0000169_node</b><br>Type: Consumer Node<br>Contained Consumers: 1",
          "<b>ID: HAS0000168_node</b><br>Type: Consumer Node<br>Contained Consumers: 1",
          "<b>ID: HAS0000051_node</b><br>Type: Consumer Node<br>Contained Consumers: 1",
          "<b>ID: HAS0000161_node</b><br>Type: Consumer Node<br>Contained Consumers: 1",
          "<b>ID: HAS0000174_node</b><br>Type: Consumer Node<br>Contained Consumers: 1",
          "<b>ID: HAS0000173_node</b><br>Type: Consumer Node<br>Contained Consumers: 1",
          "<b>ID: HAS0000163_node</b><br>Type: Consumer Node<br>Contained Consumers: 1"
         ],
         "type": "scatter",
         "x": [
          2.4103903038259866,
          8.303449775574778,
          8.554654308535557,
          9.016461495225776,
          8.7164495017904,
          6.05985456200552,
          5.813806666672442,
          1.7710378650617968,
          1.697412065429646,
          0.8821513979497555,
          0.24355368054498955,
          -0.1508647331707032,
          0.3266959274743837,
          3.7185993098443637,
          3.91247314387584,
          3.726290759345325,
          7.026899953007499,
          8.625034485600885,
          7.897565027834033,
          9.610635465488373,
          8.222053473564557,
          6.860054735510728,
          5.480995326599261,
          -0.40005899278955387,
          10.39816602030303,
          6.18365855916197,
          8.447514378494494,
          8.868078799334452,
          5.834659385644154,
          6.207465046577598,
          6.57961202139838,
          6.68784052738918,
          5.506726688874157,
          5.102903220029116,
          -0.30387951655716905,
          -0.4329205395638479,
          1.9878561177883802
         ],
         "y": [
          2.904044544036903,
          -0.9886057957529341,
          -1.6031878824640868,
          0.6910493027952018,
          0.4115020622379929,
          0.05793374042304512,
          0.0519414354555163,
          0.6940222984701893,
          0.9164844720820753,
          1.4903757413502583,
          1.9862316397072781,
          3.041992183795842,
          2.5069206217376103,
          0.9755661527512565,
          0.6186924847615178,
          0.738697088152233,
          1.5291965963730492,
          2.9605805739032744,
          2.392182278594228,
          3.8446451215012996,
          1.2498517313717894,
          4.149461147570108,
          5.604654534510714,
          1.1323019577101863,
          0.9377452847626502,
          0.7691164401193143,
          0.14227756173021816,
          1.18237205846471,
          0.7411458305494627,
          3.511541002011013,
          3.1624888836573537,
          3.397627761173633,
          4.039143012211808,
          3.7772763815480284,
          0.9477361690894398,
          0.8557258328489764,
          0.6681050674855281
         ]
        },
        {
         "hoverinfo": "text",
         "marker": {
          "color": "#FFA500",
          "size": 18,
          "symbol": "square-open"
         },
         "mode": "markers",
         "name": "Consumer (Fuse Failure)",
         "text": [
          "<b>ID: HAS0000165_node</b> (1 consumers)<br><b>🚨 FUSE FAILURE(S) 🚨</b><br> - HAS0000165_node: 33.0% overload",
          "<b>ID: HAS0000014_node</b> (1 consumers)<br><b>🚨 FUSE FAILURE(S) 🚨</b><br> - HAS0000014_node: 82.0% overload",
          "<b>ID: HAS0000021_node</b> (1 consumers)<br><b>🚨 FUSE FAILURE(S) 🚨</b><br> - HAS0000021_node: 15.7% overload",
          "<b>ID: HAS0000027_node</b> (1 consumers)<br><b>🚨 FUSE FAILURE(S) 🚨</b><br> - HAS0000027_node: 11.7% overload",
          "<b>ID: HAS0000034_node</b> (1 consumers)<br><b>🚨 FUSE FAILURE(S) 🚨</b><br> - HAS0000034_node: 160.1% overload",
          "<b>ID: HAS0000038_node</b> (1 consumers)<br><b>🚨 FUSE FAILURE(S) 🚨</b><br> - HAS0000038_node: 29.7% overload",
          "<b>ID: HAS0000167_node</b> (1 consumers)<br><b>🚨 FUSE FAILURE(S) 🚨</b><br> - HAS0000167_node: 52.9% overload",
          "<b>ID: HAS0000162_node</b> (1 consumers)<br><b>🚨 FUSE FAILURE(S) 🚨</b><br> - HAS0000162_node: 54.1% overload",
          "<b>ID: HAS0000172_node</b> (1 consumers)<br><b>🚨 FUSE FAILURE(S) 🚨</b><br> - HAS0000172_node: 11.9% overload",
          "<b>ID: HAS0000170_node</b> (1 consumers)<br><b>🚨 FUSE FAILURE(S) 🚨</b><br> - HAS0000170_node: 91.5% overload",
          "<b>ID: HAS0000171_node</b> (1 consumers)<br><b>🚨 FUSE FAILURE(S) 🚨</b><br> - HAS0000171_node: 26.9% overload"
         ],
         "type": "scatter",
         "x": [
          2.585202187519695,
          0.24853901908207998,
          4.120204821460255,
          9.007389619445238,
          5.723866003299693,
          5.244881101335836,
          6.463129412541704,
          -0.11479368210208951,
          -0.3115795192909826,
          4.869132693024327,
          4.54695882908697
         ],
         "y": [
          3.030892275051995,
          1.7807881916408135,
          0.7144568469064806,
          3.645297390154226,
          0.9868167386589408,
          4.754462142272225,
          3.548768033003558,
          0.6518655566102658,
          0.6925642832901484,
          4.668114824205301,
          4.372247463553543
         ]
        }
       ],
       "layout": {
        "hovermode": "closest",
        "legend": {
         "orientation": "h",
         "x": 1,
         "xanchor": "right",
         "y": 1.02,
         "yanchor": "bottom"
        },
        "margin": {
         "b": 10,
         "l": 10,
         "r": 10,
         "t": 40
        },
        "showlegend": true,
        "template": {
         "data": {
          "bar": [
           {
            "error_x": {
             "color": "#f2f5fa"
            },
            "error_y": {
             "color": "#f2f5fa"
            },
            "marker": {
             "line": {
              "color": "rgb(17,17,17)",
              "width": 0.5
             },
             "pattern": {
              "fillmode": "overlay",
              "size": 10,
              "solidity": 0.2
             }
            },
            "type": "bar"
           }
          ],
          "barpolar": [
           {
            "marker": {
             "line": {
              "color": "rgb(17,17,17)",
              "width": 0.5
             },
             "pattern": {
              "fillmode": "overlay",
              "size": 10,
              "solidity": 0.2
             }
            },
            "type": "barpolar"
           }
          ],
          "carpet": [
           {
            "aaxis": {
             "endlinecolor": "#A2B1C6",
             "gridcolor": "#506784",
             "linecolor": "#506784",
             "minorgridcolor": "#506784",
             "startlinecolor": "#A2B1C6"
            },
            "baxis": {
             "endlinecolor": "#A2B1C6",
             "gridcolor": "#506784",
             "linecolor": "#506784",
             "minorgridcolor": "#506784",
             "startlinecolor": "#A2B1C6"
            },
            "type": "carpet"
           }
          ],
          "choropleth": [
           {
            "colorbar": {
             "outlinewidth": 0,
             "ticks": ""
            },
            "type": "choropleth"
           }
          ],
          "contour": [
           {
            "colorbar": {
             "outlinewidth": 0,
             "ticks": ""
            },
            "colorscale": [
             [
              0,
              "#0d0887"
             ],
             [
              0.1111111111111111,
              "#46039f"
             ],
             [
              0.2222222222222222,
              "#7201a8"
             ],
             [
              0.3333333333333333,
              "#9c179e"
             ],
             [
              0.4444444444444444,
              "#bd3786"
             ],
             [
              0.5555555555555556,
              "#d8576b"
             ],
             [
              0.6666666666666666,
              "#ed7953"
             ],
             [
              0.7777777777777778,
              "#fb9f3a"
             ],
             [
              0.8888888888888888,
              "#fdca26"
             ],
             [
              1,
              "#f0f921"
             ]
            ],
            "type": "contour"
           }
          ],
          "contourcarpet": [
           {
            "colorbar": {
             "outlinewidth": 0,
             "ticks": ""
            },
            "type": "contourcarpet"
           }
          ],
          "heatmap": [
           {
            "colorbar": {
             "outlinewidth": 0,
             "ticks": ""
            },
            "colorscale": [
             [
              0,
              "#0d0887"
             ],
             [
              0.1111111111111111,
              "#46039f"
             ],
             [
              0.2222222222222222,
              "#7201a8"
             ],
             [
              0.3333333333333333,
              "#9c179e"
             ],
             [
              0.4444444444444444,
              "#bd3786"
             ],
             [
              0.5555555555555556,
              "#d8576b"
             ],
             [
              0.6666666666666666,
              "#ed7953"
             ],
             [
              0.7777777777777778,
              "#fb9f3a"
             ],
             [
              0.8888888888888888,
              "#fdca26"
             ],
             [
              1,
              "#f0f921"
             ]
            ],
            "type": "heatmap"
           }
          ],
          "histogram": [
           {
            "marker": {
             "pattern": {
              "fillmode": "overlay",
              "size": 10,
              "solidity": 0.2
             }
            },
            "type": "histogram"
           }
          ],
          "histogram2d": [
           {
            "colorbar": {
             "outlinewidth": 0,
             "ticks": ""
            },
            "colorscale": [
             [
              0,
              "#0d0887"
             ],
             [
              0.1111111111111111,
              "#46039f"
             ],
             [
              0.2222222222222222,
              "#7201a8"
             ],
             [
              0.3333333333333333,
              "#9c179e"
             ],
             [
              0.4444444444444444,
              "#bd3786"
             ],
             [
              0.5555555555555556,
              "#d8576b"
             ],
             [
              0.6666666666666666,
              "#ed7953"
             ],
             [
              0.7777777777777778,
              "#fb9f3a"
             ],
             [
              0.8888888888888888,
              "#fdca26"
             ],
             [
              1,
              "#f0f921"
             ]
            ],
            "type": "histogram2d"
           }
          ],
          "histogram2dcontour": [
           {
            "colorbar": {
             "outlinewidth": 0,
             "ticks": ""
            },
            "colorscale": [
             [
              0,
              "#0d0887"
             ],
             [
              0.1111111111111111,
              "#46039f"
             ],
             [
              0.2222222222222222,
              "#7201a8"
             ],
             [
              0.3333333333333333,
              "#9c179e"
             ],
             [
              0.4444444444444444,
              "#bd3786"
             ],
             [
              0.5555555555555556,
              "#d8576b"
             ],
             [
              0.6666666666666666,
              "#ed7953"
             ],
             [
              0.7777777777777778,
              "#fb9f3a"
             ],
             [
              0.8888888888888888,
              "#fdca26"
             ],
             [
              1,
              "#f0f921"
             ]
            ],
            "type": "histogram2dcontour"
           }
          ],
          "mesh3d": [
           {
            "colorbar": {
             "outlinewidth": 0,
             "ticks": ""
            },
            "type": "mesh3d"
           }
          ],
          "parcoords": [
           {
            "line": {
             "colorbar": {
              "outlinewidth": 0,
              "ticks": ""
             }
            },
            "type": "parcoords"
           }
          ],
          "pie": [
           {
            "automargin": true,
            "type": "pie"
           }
          ],
          "scatter": [
           {
            "marker": {
             "line": {
              "color": "#283442"
             }
            },
            "type": "scatter"
           }
          ],
          "scatter3d": [
           {
            "line": {
             "colorbar": {
              "outlinewidth": 0,
              "ticks": ""
             }
            },
            "marker": {
             "colorbar": {
              "outlinewidth": 0,
              "ticks": ""
             }
            },
            "type": "scatter3d"
           }
          ],
          "scattercarpet": [
           {
            "marker": {
             "colorbar": {
              "outlinewidth": 0,
              "ticks": ""
             }
            },
            "type": "scattercarpet"
           }
          ],
          "scattergeo": [
           {
            "marker": {
             "colorbar": {
              "outlinewidth": 0,
              "ticks": ""
             }
            },
            "type": "scattergeo"
           }
          ],
          "scattergl": [
           {
            "marker": {
             "line": {
              "color": "#283442"
             }
            },
            "type": "scattergl"
           }
          ],
          "scattermap": [
           {
            "marker": {
             "colorbar": {
              "outlinewidth": 0,
              "ticks": ""
             }
            },
            "type": "scattermap"
           }
          ],
          "scattermapbox": [
           {
            "marker": {
             "colorbar": {
              "outlinewidth": 0,
              "ticks": ""
             }
            },
            "type": "scattermapbox"
           }
          ],
          "scatterpolar": [
           {
            "marker": {
             "colorbar": {
              "outlinewidth": 0,
              "ticks": ""
             }
            },
            "type": "scatterpolar"
           }
          ],
          "scatterpolargl": [
           {
            "marker": {
             "colorbar": {
              "outlinewidth": 0,
              "ticks": ""
             }
            },
            "type": "scatterpolargl"
           }
          ],
          "scatterternary": [
           {
            "marker": {
             "colorbar": {
              "outlinewidth": 0,
              "ticks": ""
             }
            },
            "type": "scatterternary"
           }
          ],
          "surface": [
           {
            "colorbar": {
             "outlinewidth": 0,
             "ticks": ""
            },
            "colorscale": [
             [
              0,
              "#0d0887"
             ],
             [
              0.1111111111111111,
              "#46039f"
             ],
             [
              0.2222222222222222,
              "#7201a8"
             ],
             [
              0.3333333333333333,
              "#9c179e"
             ],
             [
              0.4444444444444444,
              "#bd3786"
             ],
             [
              0.5555555555555556,
              "#d8576b"
             ],
             [
              0.6666666666666666,
              "#ed7953"
             ],
             [
              0.7777777777777778,
              "#fb9f3a"
             ],
             [
              0.8888888888888888,
              "#fdca26"
             ],
             [
              1,
              "#f0f921"
             ]
            ],
            "type": "surface"
           }
          ],
          "table": [
           {
            "cells": {
             "fill": {
              "color": "#506784"
             },
             "line": {
              "color": "rgb(17,17,17)"
             }
            },
            "header": {
             "fill": {
              "color": "#2a3f5f"
             },
             "line": {
              "color": "rgb(17,17,17)"
             }
            },
            "type": "table"
           }
          ]
         },
         "layout": {
          "annotationdefaults": {
           "arrowcolor": "#f2f5fa",
           "arrowhead": 0,
           "arrowwidth": 1
          },
          "autotypenumbers": "strict",
          "coloraxis": {
           "colorbar": {
            "outlinewidth": 0,
            "ticks": ""
           }
          },
          "colorscale": {
           "diverging": [
            [
             0,
             "#8e0152"
            ],
            [
             0.1,
             "#c51b7d"
            ],
            [
             0.2,
             "#de77ae"
            ],
            [
             0.3,
             "#f1b6da"
            ],
            [
             0.4,
             "#fde0ef"
            ],
            [
             0.5,
             "#f7f7f7"
            ],
            [
             0.6,
             "#e6f5d0"
            ],
            [
             0.7,
             "#b8e186"
            ],
            [
             0.8,
             "#7fbc41"
            ],
            [
             0.9,
             "#4d9221"
            ],
            [
             1,
             "#276419"
            ]
           ],
           "sequential": [
            [
             0,
             "#0d0887"
            ],
            [
             0.1111111111111111,
             "#46039f"
            ],
            [
             0.2222222222222222,
             "#7201a8"
            ],
            [
             0.3333333333333333,
             "#9c179e"
            ],
            [
             0.4444444444444444,
             "#bd3786"
            ],
            [
             0.5555555555555556,
             "#d8576b"
            ],
            [
             0.6666666666666666,
             "#ed7953"
            ],
            [
             0.7777777777777778,
             "#fb9f3a"
            ],
            [
             0.8888888888888888,
             "#fdca26"
            ],
            [
             1,
             "#f0f921"
            ]
           ],
           "sequentialminus": [
            [
             0,
             "#0d0887"
            ],
            [
             0.1111111111111111,
             "#46039f"
            ],
            [
             0.2222222222222222,
             "#7201a8"
            ],
            [
             0.3333333333333333,
             "#9c179e"
            ],
            [
             0.4444444444444444,
             "#bd3786"
            ],
            [
             0.5555555555555556,
             "#d8576b"
            ],
            [
             0.6666666666666666,
             "#ed7953"
            ],
            [
             0.7777777777777778,
             "#fb9f3a"
            ],
            [
             0.8888888888888888,
             "#fdca26"
            ],
            [
             1,
             "#f0f921"
            ]
           ]
          },
          "colorway": [
           "#636efa",
           "#EF553B",
           "#00cc96",
           "#ab63fa",
           "#FFA15A",
           "#19d3f3",
           "#FF6692",
           "#B6E880",
           "#FF97FF",
           "#FECB52"
          ],
          "font": {
           "color": "#f2f5fa"
          },
          "geo": {
           "bgcolor": "rgb(17,17,17)",
           "lakecolor": "rgb(17,17,17)",
           "landcolor": "rgb(17,17,17)",
           "showlakes": true,
           "showland": true,
           "subunitcolor": "#506784"
          },
          "hoverlabel": {
           "align": "left"
          },
          "hovermode": "closest",
          "mapbox": {
           "style": "dark"
          },
          "paper_bgcolor": "rgb(17,17,17)",
          "plot_bgcolor": "rgb(17,17,17)",
          "polar": {
           "angularaxis": {
            "gridcolor": "#506784",
            "linecolor": "#506784",
            "ticks": ""
           },
           "bgcolor": "rgb(17,17,17)",
           "radialaxis": {
            "gridcolor": "#506784",
            "linecolor": "#506784",
            "ticks": ""
           }
          },
          "scene": {
           "xaxis": {
            "backgroundcolor": "rgb(17,17,17)",
            "gridcolor": "#506784",
            "gridwidth": 2,
            "linecolor": "#506784",
            "showbackground": true,
            "ticks": "",
            "zerolinecolor": "#C8D4E3"
           },
           "yaxis": {
            "backgroundcolor": "rgb(17,17,17)",
            "gridcolor": "#506784",
            "gridwidth": 2,
            "linecolor": "#506784",
            "showbackground": true,
            "ticks": "",
            "zerolinecolor": "#C8D4E3"
           },
           "zaxis": {
            "backgroundcolor": "rgb(17,17,17)",
            "gridcolor": "#506784",
            "gridwidth": 2,
            "linecolor": "#506784",
            "showbackground": true,
            "ticks": "",
            "zerolinecolor": "#C8D4E3"
           }
          },
          "shapedefaults": {
           "line": {
            "color": "#f2f5fa"
           }
          },
          "sliderdefaults": {
           "bgcolor": "#C8D4E3",
           "bordercolor": "rgb(17,17,17)",
           "borderwidth": 1,
           "tickwidth": 0
          },
          "ternary": {
           "aaxis": {
            "gridcolor": "#506784",
            "linecolor": "#506784",
            "ticks": ""
           },
           "baxis": {
            "gridcolor": "#506784",
            "linecolor": "#506784",
            "ticks": ""
           },
           "bgcolor": "rgb(17,17,17)",
           "caxis": {
            "gridcolor": "#506784",
            "linecolor": "#506784",
            "ticks": ""
           }
          },
          "title": {
           "x": 0.05
          },
          "updatemenudefaults": {
           "bgcolor": "#506784",
           "borderwidth": 0
          },
          "xaxis": {
           "automargin": true,
           "gridcolor": "#283442",
           "linecolor": "#506784",
           "ticks": "",
           "title": {
            "standoff": 15
           },
           "zerolinecolor": "#283442",
           "zerolinewidth": 2
          },
          "yaxis": {
           "automargin": true,
           "gridcolor": "#283442",
           "linecolor": "#506784",
           "ticks": "",
           "title": {
            "standoff": 15
           },
           "zerolinecolor": "#283442",
           "zerolinewidth": 2
          }
         }
        },
        "title": {
         "text": "Network Capacity Analysis - Visualization of Failures station_1"
        },
        "xaxis": {
         "showgrid": false,
         "showticklabels": false,
         "zeroline": false
        },
        "yaxis": {
         "showgrid": false,
         "showticklabels": false,
         "zeroline": false
        }
       }
      }
     },
     "metadata": {},
     "output_type": "display_data"
    }
   ],
   "source": [
    "# Get a list of all unique stations for the dropdown\n",
    "all_stations = sorted(df_full['station'].unique())\n",
    "\n",
    "# Create the dropdown and output widgets\n",
    "station_dropdown = widgets.Dropdown(\n",
    "    options=all_stations,\n",
    "    description='Select Station:',\n",
    "    value='station_1', # Default to a station with known issues\n",
    "    disabled=False,\n",
    ")\n",
    "output_area = widgets.Output()\n",
    "\n",
    "# This dictionary will store the results of our chosen station for later use\n",
    "analysis_store = {}\n",
    "\n",
    "def run_baseline_analysis(selected_station):\n",
    "    \"\"\"Runs the initial grid analysis and stores the results.\"\"\"\n",
    "    with output_area:\n",
    "        clear_output(wait=True)\n",
    "        print(f\"--- Running full baseline analysis for station: '{selected_station}' ---\")\n",
    "        \n",
    "        df_one_station = df_full[df_full['station'] == selected_station].copy()\n",
    "        \n",
    "        # Build Network\n",
    "        G, consumer_props, roots = build_and_simplify_network(df_one_station)\n",
    "        \n",
    "        # Run Analysis\n",
    "        dynamic_results = find_failures_with_yearly_profile(\n",
    "            graph=G,\n",
    "            net_profile_df=df_net_load,\n",
    "            consumer_props=consumer_props,\n",
    "            root_node_ids=roots,\n",
    "            nominal_voltage=NOMINAL_VOLTAGE\n",
    "        )\n",
    "        \n",
    "        # Store results for later use in the notebook\n",
    "        analysis_store['station_id'] = selected_station\n",
    "        analysis_store['graph'] = G\n",
    "        analysis_store['consumer_props'] = consumer_props\n",
    "        analysis_store['root_node_ids'] = roots \n",
    "        analysis_store['initial_results'] = dynamic_results\n",
    "        \n",
    "        print(\"\\n--- 1. Initial Network Topology ---\")\n",
    "        if len(dynamic_results['link_failures'])==0:\n",
    "            visualize_network_topology(graph=G, root_node_ids=roots, optimize_space=True)\n",
    "        else:\n",
    "            visualize_network_with_failures(\n",
    "                graph=G, \n",
    "                root_node_ids=roots, \n",
    "                link_failures=dynamic_results['link_failures'], \n",
    "                fuse_failures=dynamic_results[\"fuse_failures\"], \n",
    "                optimize_space=True,\n",
    "                station_name= selected_station\n",
    "            )\n",
    "        \n",
    "        print(\"\\n\" + \"=\"*50)\n",
    "        print_analysis_results(\"2. RESULTS: Baseline Yearly Profile Analysis\", dynamic_results)\n",
    "        print(\"=\"*50)\n",
    "        print(\"\\nAnalysis complete. The results and network graph are now stored.\")\n",
    "        print(\"Scroll down to the next section to design and apply our flexibility solution.\")\n",
    "\n",
    "\n",
    "def on_station_change(change):\n",
    "    run_baseline_analysis(change['new'])\n",
    "\n",
    "# Link the function and display the UI\n",
    "station_dropdown.observe(on_station_change, names='value')\n",
    "display(station_dropdown, output_area)\n",
    "\n",
    "# Run the analysis for the initial default value\n",
    "if station_dropdown.value:\n",
    "    run_baseline_analysis(station_dropdown.value)"
   ]
  },
  {
   "cell_type": "code",
   "execution_count": 5,
   "metadata": {},
   "outputs": [],
   "source": [
    "import pandas as pd\n",
    "import os\n",
    "\n",
    "def update_and_save_parquet(new_data_df, file_path, customers_to_update):\n",
    "    \"\"\"\n",
    "    Saves or updates a Parquet file with new profile data for a specific set of customers.\n",
    "    DEFINITIVE FIX: Handles cases where the existing file has a non-datetime index (e.g., 'V1').\n",
    "    It merges based on row position and applies the correct DatetimeIndex from the new data.\n",
    "\n",
    "    Args:\n",
    "        new_data_df (pd.DataFrame): DataFrame with a proper DatetimeIndex containing the new profile data.\n",
    "        file_path (str): The full path to the Parquet file to be saved.\n",
    "        customers_to_update (list): A list of customer IDs whose data should be updated.\n",
    "    \"\"\"\n",
    "    # Filter the new data and ensure it has a proper DatetimeIndex\n",
    "    relevant_new_data = new_data_df[customers_to_update].copy()\n",
    "    relevant_new_data.index = pd.to_datetime(relevant_new_data.index)\n",
    "    \n",
    "    # Store the correct index for later use\n",
    "    correct_index = relevant_new_data.index\n",
    "\n",
    "    if os.path.exists(file_path):\n",
    "        print(f\"File '{os.path.basename(file_path)}' exists. Loading and updating...\")\n",
    "        try:\n",
    "            existing_df = pd.read_parquet(file_path)\n",
    "\n",
    "            # Critical Check: Ensure row counts match. If not, we cannot safely merge.\n",
    "            if len(existing_df) != len(relevant_new_data):\n",
    "                print(f\"  [Warning] Row count mismatch! Existing file has {len(existing_df)} rows, \"\n",
    "                      f\"new data has {len(relevant_new_data)}. Overwriting file to prevent data corruption.\")\n",
    "                # Force overwrite by raising an exception to jump to the 'except' block\n",
    "                raise ValueError(\"Row count mismatch\")\n",
    "\n",
    "            # Temporarily remove indices to prepare for a position-based merge.\n",
    "            # This is the key step to handle the 'V1' vs. DatetimeIndex conflict.\n",
    "            existing_df_vals = existing_df.reset_index(drop=True)\n",
    "            new_data_vals = relevant_new_data.reset_index(drop=True)\n",
    "            \n",
    "            # Identify columns to drop from the existing data\n",
    "            cols_to_drop = existing_df_vals.columns.intersection(new_data_vals.columns)\n",
    "            df_for_others = existing_df_vals.drop(columns=cols_to_drop)\n",
    "            \n",
    "            # Concatenate based on the temporary RangeIndex (0, 1, 2...)\n",
    "            final_df_no_index = pd.concat([df_for_others, new_data_vals], axis=1)\n",
    "\n",
    "            # Restore the correct DatetimeIndex\n",
    "            final_df = final_df_no_index.set_index(correct_index)\n",
    "            \n",
    "            # (Optional but good practice) Sort columns for consistency\n",
    "            final_df = final_df.reindex(sorted(final_df.columns), axis=1)\n",
    "            \n",
    "            print(f\"Successfully merged data for {len(customers_to_update)} customers.\")\n",
    "\n",
    "        except Exception as e:\n",
    "            print(f\"  An error occurred during the merge process: {e}. Defaulting to overwrite with new data.\")\n",
    "            final_df = relevant_new_data\n",
    "    else:\n",
    "        print(f\"File '{os.path.basename(file_path)}' does not exist. Creating new file...\")\n",
    "        final_df = relevant_new_data\n",
    "\n",
    "    # Save the final DataFrame\n",
    "    try:\n",
    "        os.makedirs(os.path.dirname(file_path), exist_ok=True)\n",
    "        final_df.to_parquet(file_path, index=True)\n",
    "        print(f\"Successfully saved data to '{os.path.basename(file_path)}'\")\n",
    "    except Exception as e:\n",
    "        print(f\"  [ERROR] Failed to save file {file_path}: {e}\")"
   ]
  },
  {
   "cell_type": "code",
   "execution_count": 6,
   "metadata": {},
   "outputs": [
    {
     "name": "stdout",
     "output_type": "stream",
     "text": [
      "\n",
      "==================================================\n",
      "Saving results for 48 customers from station: station_1\n",
      "==================================================\n",
      "\n",
      "-> Saving: Battery Charging Profiles (kW)...\n",
      "File 'battery_in_profiles.parquet' exists. Loading and updating...\n",
      "Successfully merged data for 48 customers.\n",
      "Successfully saved data to 'battery_in_profiles.parquet'\n",
      "-> Saving: Battery Discharging Profiles (kW)...\n",
      "File 'battery_out_profiles.parquet' exists. Loading and updating...\n",
      "Successfully merged data for 48 customers.\n",
      "Successfully saved data to 'battery_out_profiles.parquet'\n",
      "-> Saving: Battery State of Charge Profiles (kWh)...\n",
      "File 'battery_soc_profiles.parquet' exists. Loading and updating...\n",
      "Successfully merged data for 48 customers.\n",
      "Successfully saved data to 'battery_soc_profiles.parquet'\n",
      "-> Saving: Curtailed Energy Profiles (kWh)...\n",
      "File 'curtailed_energy_profiles.parquet' exists. Loading and updating...\n",
      "Successfully merged data for 48 customers.\n",
      "Successfully saved data to 'curtailed_energy_profiles.parquet'\n",
      "-> Saving: Base Consumption Profiles (kW)...\n",
      "File 'base_consumption.parquet' exists. Loading and updating...\n",
      "Successfully merged data for 48 customers.\n",
      "Successfully saved data to 'base_consumption.parquet'\n",
      "-> Saving: PV Generation Profiles (kW)...\n",
      "File 'pv_profiles.parquet' exists. Loading and updating...\n",
      "Successfully merged data for 48 customers.\n",
      "Successfully saved data to 'pv_profiles.parquet'\n",
      "-> Saving: EV Charging Profiles (kW)...\n",
      "File 'ev_profiles.parquet' exists. Loading and updating...\n",
      "Successfully merged data for 48 customers.\n",
      "Successfully saved data to 'ev_profiles.parquet'\n",
      "-> Saving: Heat Pump Consumption Profiles (kW)...\n",
      "File 'hp_profiles.parquet' exists. Loading and updating...\n",
      "Successfully merged data for 48 customers.\n",
      "Successfully saved data to 'hp_profiles.parquet'\n",
      "-> Saving: Net Load Profiles (kW)...\n",
      "File 'net_load_profiles.parquet' exists. Loading and updating...\n",
      "Successfully merged data for 48 customers.\n",
      "Successfully saved data to 'net_load_profiles.parquet'\n",
      "\n",
      "--- All available profiles have been saved successfully. ---\n"
     ]
    }
   ],
   "source": [
    "import os\n",
    "import pandas as pd # Required for checking if a DataFrame is empty\n",
    "\n",
    "# --- FIX: Ensure the output directory exists before trying to save files ---\n",
    "# The path where the profiles will be saved\n",
    "output_profiles_path = \"./results/data_parquet/\"\n",
    "os.makedirs(output_profiles_path, exist_ok=True) # This line creates the folder if it doesn't exist.\n",
    "\n",
    "# --- SETUP: Assuming these variables are defined from your analysis ---\n",
    "# The list of customers that were part of the recent analysis\n",
    "customers_analyzed = list(analysis_store['consumer_props'].keys())\n",
    "\n",
    "#NEW LINE\n",
    "df_battery_in = pd.DataFrame(0, index=df_net_load.index, columns=df_net_load.columns, dtype=float)\n",
    "df_battery_out = pd.DataFrame(0, index=df_net_load.index, columns=df_net_load.columns, dtype=float)\n",
    "df_battery_soc_kwh = pd.DataFrame(0, index=df_net_load.index, columns=df_net_load.columns, dtype=float)\n",
    "df_curtailed_energy = df_net_load\n",
    "\n",
    "# --- UPDATE: Define ALL available profiles to be saved in a structured list ---\n",
    "# NOTE: This assumes all these DataFrames (df_battery_in, df_net_load, etc.) exist.\n",
    "profiles_to_save = [\n",
    "    # Flexibility / Battery Profiles\n",
    "    {\n",
    "        \"df\": df_battery_in,\n",
    "        \"filename\": \"battery_in_profiles.parquet\",\n",
    "        \"description\": \"Battery Charging Profiles (kW)\"\n",
    "    },\n",
    "    {\n",
    "        \"df\": df_battery_out,\n",
    "        \"filename\": \"battery_out_profiles.parquet\",\n",
    "        \"description\": \"Battery Discharging Profiles (kW)\"\n",
    "    },\n",
    "    {\n",
    "        \"df\": df_battery_soc_kwh,\n",
    "        \"filename\": \"battery_soc_profiles.parquet\",\n",
    "        \"description\": \"Battery State of Charge Profiles (kWh)\"\n",
    "    },\n",
    "    {\n",
    "        \"df\": df_curtailed_energy,\n",
    "        \"filename\": \"curtailed_energy_profiles.parquet\",\n",
    "        \"description\": \"Curtailed Energy Profiles (kWh)\"\n",
    "    },\n",
    "    # Base Load, Generation, and Net Profiles\n",
    "    {\n",
    "        \"df\": df_consumption,\n",
    "        \"filename\": \"base_consumption.parquet\",\n",
    "        \"description\": \"Base Consumption Profiles (kW)\"\n",
    "    },\n",
    "    {\n",
    "        \"df\": df_pv,\n",
    "        \"filename\": \"pv_profiles.parquet\",\n",
    "        \"description\": \"PV Generation Profiles (kW)\"\n",
    "    },\n",
    "    {\n",
    "        \"df\": df_ev,\n",
    "        \"filename\": \"ev_profiles.parquet\",\n",
    "        \"description\": \"EV Charging Profiles (kW)\"\n",
    "    },\n",
    "    {\n",
    "        \"df\": df_hp,\n",
    "        \"filename\": \"hp_profiles.parquet\",\n",
    "        \"description\": \"Heat Pump Consumption Profiles (kW)\"\n",
    "    },\n",
    "    {\n",
    "        \"df\": df_net_load,\n",
    "        \"filename\": \"net_load_profiles.parquet\",\n",
    "        \"description\": \"Net Load Profiles (kW)\"\n",
    "    }\n",
    "]\n",
    "\n",
    "# --- Saving Logic (Unchanged from your original code) ---\n",
    "print(\"\\n\" + \"=\"*50)\n",
    "print(f\"Saving results for {len(customers_analyzed)} customers from station: {analysis_store['station_id']}\")\n",
    "print(\"=\"*50 + \"\\n\")\n",
    "\n",
    "# Loop through the list and save each profile\n",
    "for profile in profiles_to_save:\n",
    "    # Check if the dataframe to save is not empty or None\n",
    "    if profile['df'] is not None and not profile['df'].empty:\n",
    "        print(f\"-> Saving: {profile['description']}...\")\n",
    "        # NOTE: This assumes your 'update_and_save_parquet' function is defined elsewhere\n",
    "        update_and_save_parquet(\n",
    "            new_data_df=profile['df'],\n",
    "            file_path=os.path.join(output_profiles_path, profile['filename']),\n",
    "            customers_to_update=customers_analyzed\n",
    "        )\n",
    "    else:\n",
    "        print(f\"-> Skipping: {profile['description']} (DataFrame is empty or None).\")\n",
    "\n",
    "\n",
    "print(\"\\n--- All available profiles have been saved successfully. ---\")"
   ]
  },
  {
   "cell_type": "code",
   "execution_count": null,
   "metadata": {},
   "outputs": [],
   "source": []
  }
 ],
 "metadata": {
  "kernelspec": {
   "display_name": ".venv",
   "language": "python",
   "name": "python3"
  },
  "language_info": {
   "codemirror_mode": {
    "name": "ipython",
    "version": 3
   },
   "file_extension": ".py",
   "mimetype": "text/x-python",
   "name": "python",
   "nbconvert_exporter": "python",
   "pygments_lexer": "ipython3",
   "version": "3.10.18"
  }
 },
 "nbformat": 4,
 "nbformat_minor": 2
}
