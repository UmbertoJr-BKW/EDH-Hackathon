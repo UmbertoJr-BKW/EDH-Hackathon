{
 "cells": [
  {
   "cell_type": "markdown",
   "id": "09ed6a0a-fcb5-4434-bb58-aa081e550aaf",
   "metadata": {},
   "source": [
    "# **Interactive Network Analysis and Visualization**  \n",
    "  \n",
    "This Jupyter Notebook provides a step-by-step approach to analyzing and visualizing network topology data of a power grid. Here's what you'll achieve using this notebook:  \n",
    "  \n",
    "1. **Load and Process Data**: Import network topology data from a CSV file for analysis.  \n",
    "2. **Interactive Station Selection**: Use a dropdown menu to select a station for detailed exploration.  \n",
    "3. **Network Graph Simplification**: Automatically construct and simplify the network graph for the selected station, providing the foundation for your own challenge.\n",
    "4. **Visualize the Network**: Leverage visualization tools to explore the network's structure and layout.  \n",
    "5. **Key Metrics and Insights**: Dynamically display important metrics, such as the number of nodes, edges, root nodes, and consumer properties.  \n",
    "  \n",
    "**How to Use**: Simply select a station from the dropdown menu to analyze its network structure and visualize its topology interactively.  "
   ]
  },
  {
   "cell_type": "code",
   "execution_count": 1,
   "id": "82a0feb8-a628-445e-bc34-33216e1bc907",
   "metadata": {
    "tags": []
   },
   "outputs": [
    {
     "name": "stdout",
     "output_type": "stream",
     "text": [
      "Successfully loaded network data.\n"
     ]
    }
   ],
   "source": [
    "import pandas as pd\n",
    "import numpy as np\n",
    "import networkx as nx\n",
    "import re\n",
    "import pickle\n",
    "\n",
    "\n",
    "from src.visualization import (\n",
    "    visualize_network_topology,\n",
    "    visualize_network_with_failures,\n",
    "    visualize_reinforced_network # Add this import for future use\n",
    ")\n",
    "\n",
    "from src.functions import (\n",
    "    build_and_simplify_network,\n",
    "    find_failures_with_yearly_profile,\n",
    "    suggest_grid_reinforcement,\n",
    ")\n",
    "\n",
    "\n",
    "# --- Start: Loading and Preparing the Data ---\n",
    "# (This part is the same as before)\n",
    "file_path = \"../blob-account-edh/challenge-data/250903_all_stations_anon.csv\"\n",
    "df_full = pd.read_csv(file_path, sep=\";\")\n",
    "print(\"Successfully loaded network data.\")\n"
   ]
  },
  {
   "cell_type": "markdown",
   "id": "4a4a9b59-f7da-47fe-8a87-ca6b4afb5499",
   "metadata": {},
   "source": [
    "The following code provides an interactive tool for exploring network data by station. Use the dropdown menu to select a station, and the analysis results, including network properties and visualizations, will update automatically. Simply choose a station to see its network details."
   ]
  },
  {
   "cell_type": "code",
   "execution_count": 2,
   "id": "41ecc664-38a9-448b-a1d3-4f27d56c66b5",
   "metadata": {
    "tags": []
   },
   "outputs": [
    {
     "name": "stdout",
     "output_type": "stream",
     "text": [
      "Use the dropdown below to select a station.\n"
     ]
    },
    {
     "data": {
      "application/vnd.jupyter.widget-view+json": {
       "model_id": "7aae6b6c9d904810b943f72b968da952",
       "version_major": 2,
       "version_minor": 0
      },
      "text/plain": [
       "Dropdown(description='Select Station:', options=('station_1', 'station_2', 'station_3', 'station_4', 'station_…"
      ]
     },
     "metadata": {},
     "output_type": "display_data"
    },
    {
     "data": {
      "application/vnd.jupyter.widget-view+json": {
       "model_id": "84816396d5bf4491965cfed9577a20cd",
       "version_major": 2,
       "version_minor": 0
      },
      "text/plain": [
       "Output()"
      ]
     },
     "metadata": {},
     "output_type": "display_data"
    },
    {
     "data": {
      "application/vnd.plotly.v1+json": {
       "config": {
        "plotlyServerURL": "https://plot.ly"
       },
       "data": [
        {
         "hoverinfo": "none",
         "line": {
          "color": "grey",
          "width": 2
         },
         "mode": "lines",
         "name": "Link (Unchanged)",
         "type": "scatter",
         "x": [
          6.699973706021405,
          7.087006316536549,
          null,
          6.699973706021405,
          6.395450565371022,
          null,
          6.699973706021405,
          6.506522768857749,
          null,
          7.087006316536549,
          7.533527437510443,
          null,
          7.533527437510443,
          8,
          null,
          1.3429419485120915,
          1.3817828152962714,
          null,
          1.3817828152962714,
          1.1015793499649078,
          null,
          1.3817828152962714,
          1.6912951688066429,
          null,
          1.1015793499649078,
          0.9011292145570441,
          null,
          1.6912951688066429,
          2,
          null,
          2.2211831130270947,
          2.146912038482021,
          null,
          2.146912038482021,
          2,
          null,
          2,
          1.8105476365506665,
          null,
          2,
          1.631670512721441,
          null,
          2,
          1.707264830822635,
          null,
          2,
          0,
          null,
          1.6546108857217952,
          1.8105476365506665,
          null,
          10.798862698389387,
          10.554590047469615,
          null,
          10.554590047469615,
          10.952251883555359,
          null,
          10.554590047469615,
          10,
          null,
          10,
          9.777128441545772,
          null,
          10,
          10.349118093223224,
          null,
          10,
          7.001097791468194,
          null,
          10,
          10.214315764743413,
          null,
          10,
          9.999857174287584,
          null,
          10,
          8,
          null,
          10,
          6,
          null,
          10,
          0,
          null,
          10,
          10.29327240011432,
          null,
          -0.30766682141029694,
          0,
          null,
          0,
          -0.12818629052114272,
          null,
          0,
          -0.961399705759261,
          null,
          0,
          -0.2829571065213442,
          null,
          -1.2634278044222929,
          -0.961399705759261,
          null,
          -0.961399705759261,
          -1.6284495157626746,
          null,
          -0.961399705759261,
          -1.5091739681464005,
          null,
          -1.6284495157626746,
          -2.0190598493524243,
          null,
          -1.6284495157626746,
          -2.0142196466950053,
          null,
          -1.5091739681464005,
          -1.9093712437626673,
          null,
          -1.5091739681464005,
          -1.8044043311282283,
          null,
          -2.2036132287695893,
          -1.9093712437626673,
          null,
          7.8095839766815285,
          8,
          null,
          8,
          8.258944061447611,
          null,
          8,
          7.964900263461355,
          null,
          8,
          8.148307688418143,
          null,
          10.056673607367895,
          9.777128441545772,
          null,
          9.777128441545772,
          9.452947865952202,
          null,
          9.452947865952202,
          9.046728845380873,
          null,
          9.452947865952202,
          9.595576807689387,
          null,
          9.029960826853811,
          9.046728845380873,
          null,
          9.046728845380873,
          8.694637651596194,
          null,
          8.694637651596194,
          8.664048663280376,
          null,
          8.694637651596194,
          8.408183745755897,
          null,
          8.408183745755897,
          8.242387155662234,
          null,
          6.941074391008165,
          7.001097791468194,
          null,
          7.001097791468194,
          4,
          null,
          4,
          3.8449355738947286,
          null,
          11.50517712276098,
          11.25642314488998,
          null,
          11.25642314488998,
          10.950703928246089,
          null,
          10.950703928246089,
          11.357768385483533,
          null,
          10.950703928246089,
          11.07115837611811,
          null,
          10.950703928246089,
          11.263916024272355,
          null,
          10.950703928246089,
          11.336233706858481,
          null,
          10.950703928246089,
          10.29327240011432,
          null,
          9.53753953702835,
          9.581826281324682,
          null,
          9.581826281324682,
          9.704161142350426,
          null,
          9.704161142350426,
          9.358911805506416,
          null,
          9.704161142350426,
          10.048111267984217,
          null,
          9.704161142350426,
          9.304364728489817,
          null,
          9.704161142350426,
          9.3753993794364,
          null,
          9.704161142350426,
          9.890569564044684,
          null,
          9.704161142350426,
          10.29327240011432,
          null,
          8.843522190603045,
          9.047664364718552,
          null,
          9.047664364718552,
          9.358911805506416,
          null,
          5.66802150060172,
          6,
          null,
          6,
          5.7991741179101135,
          null,
          6,
          5.88189018231866,
          null,
          6,
          5.708362179160022,
          null,
          6,
          6.093023785557245,
          null,
          1.3227980452571049,
          1.631670512721441,
          null,
          1.4083006404086584,
          1.707264830822635,
          null,
          9.304364728489817,
          9.00817107488612,
          null,
          9.3753993794364,
          9.08977337279212,
          null
         ],
         "y": [
          2.7133668208481843,
          2.1819278406120426,
          null,
          2.7133668208481843,
          2.9409691308538553,
          null,
          2.7133668208481843,
          3.1245195075485555,
          null,
          2.1819278406120426,
          1.5937916001316514,
          null,
          1.5937916001316514,
          1,
          null,
          2.5342319508355797,
          2.2373544663764977,
          null,
          2.2373544663764977,
          2.672322474024139,
          null,
          2.2373544663764977,
          1.636716284885974,
          null,
          2.672322474024139,
          2.966995515747282,
          null,
          1.636716284885974,
          1,
          null,
          0.28406672302377756,
          0.6230128156136531,
          null,
          0.6230128156136531,
          1,
          null,
          1,
          0.5342060335242667,
          null,
          1,
          0.7824239249549567,
          null,
          1,
          1.1420403633580534,
          null,
          1,
          1,
          null,
          0.16369714482360037,
          0.5342060335242667,
          null,
          0.19959760742778343,
          0.5423544582512043,
          null,
          0.5423544582512043,
          0.35795986107420563,
          null,
          0.5423544582512043,
          1,
          null,
          1,
          2.1987387706661816,
          null,
          1,
          0.8990931563753124,
          null,
          1,
          0.9715396396568421,
          null,
          1,
          0.6884667975092312,
          null,
          1,
          0.6428170027239873,
          null,
          1,
          1,
          null,
          1,
          1,
          null,
          1,
          1,
          null,
          1,
          2.1256294914480227,
          null,
          0.8165802135842459,
          1,
          null,
          1,
          0.6894301682275706,
          null,
          1,
          1.4727309415782899,
          null,
          1,
          1.0546207500970255,
          null,
          1.3758462459505882,
          1.4727309415782899,
          null,
          1.4727309415782899,
          1.5681069344610534,
          null,
          1.4727309415782899,
          2.0360254771320867,
          null,
          1.5681069344610534,
          1.6851295476143904,
          null,
          1.5681069344610534,
          1.4806204387242765,
          null,
          2.0360254771320867,
          2.513223309797225,
          null,
          2.0360254771320867,
          2.2355565407987044,
          null,
          2.8414958769251775,
          2.513223309797225,
          null,
          0.7685130634716779,
          1,
          null,
          1,
          0.8440079413933874,
          null,
          1,
          0.6254030770615561,
          null,
          1,
          0.6612679073507283,
          null,
          2.0215804506047292,
          2.1987387706661816,
          null,
          2.1987387706661816,
          3.408353109122049,
          null,
          3.408353109122049,
          4.447642012831243,
          null,
          3.408353109122049,
          3.7779652482841515,
          null,
          4.852729173185679,
          4.447642012831243,
          null,
          4.447642012831243,
          5.259407139395093,
          null,
          5.259407139395093,
          5.650541812891533,
          null,
          5.259407139395093,
          5.821407498299059,
          null,
          5.821407498299059,
          6.216675595509452,
          null,
          0.6480607501483199,
          0.9715396396568421,
          null,
          0.9715396396568421,
          1,
          null,
          1,
          0.8004321719217921,
          null,
          3.9527685853205496,
          3.568828300014218,
          null,
          3.568828300014218,
          2.971025474708668,
          null,
          2.971025474708668,
          3.1139357542058743,
          null,
          2.971025474708668,
          3.2906255742708432,
          null,
          2.971025474708668,
          3.270696268636771,
          null,
          2.971025474708668,
          2.911976031349762,
          null,
          2.971025474708668,
          2.1256294914480227,
          null,
          2.012923939555912,
          2.330537382907738,
          null,
          2.330537382907738,
          2.6809978139500608,
          null,
          2.6809978139500608,
          3.223020010326299,
          null,
          2.6809978139500608,
          2.7497810906279274,
          null,
          2.6809978139500608,
          2.563258153420715,
          null,
          2.6809978139500608,
          2.9234716746621134,
          null,
          2.6809978139500608,
          2.9619733740887533,
          null,
          2.6809978139500608,
          2.1256294914480227,
          null,
          3.999182641916353,
          3.6773219552456387,
          null,
          3.6773219552456387,
          3.223020010326299,
          null,
          0.9896012672315734,
          1,
          null,
          1,
          1.2055322596153586,
          null,
          1,
          0.6792645786368369,
          null,
          1,
          0.7693078066495667,
          null,
          1,
          0.6776455460052463,
          null,
          0.585676525352001,
          0.7824239249549567,
          null,
          1.22861885403131,
          1.1420403633580534,
          null,
          2.563258153420715,
          2.4560336763387447,
          null,
          2.9234716746621134,
          3.0916798944044657,
          null
         ]
        },
        {
         "hoverinfo": "text",
         "marker": {
          "opacity": 0,
          "size": 15
         },
         "mode": "markers",
         "showlegend": false,
         "text": [
          "Connection: FLU0000001_node-FLU0000022_node<br>Link Length: 135.7 m<br>Aggregated Imax: 165.00 A",
          "Connection: FLU0000001_node-HAS0000164_node<br>Link Length: 20.5 m<br>Aggregated Imax: 125.00 A",
          "Connection: FLU0000001_node-HAS0000165_node<br>Link Length: 27.6 m<br>Aggregated Imax: 125.00 A",
          "Connection: FLU0000022_node-MUF0001006_node<br>Link Length: 5.2 m<br>Aggregated Imax: 119.00 A",
          "Connection: MUF0001006_node-PIN0000224_node<br>Link Length: 37.7 m<br>Aggregated Imax: 119.00 A",
          "Connection: HAS0000002_node-MUF0000004_node<br>Link Length: 66.0 m<br>Aggregated Imax: 56.00 A",
          "Connection: MUF0000004_node-MUF0001004_node<br>Link Length: 35.2 m<br>Aggregated Imax: 94.50 A",
          "Connection: MUF0000004_node-MUF0001010_node<br>Link Length: 74.9 m<br>Aggregated Imax: 175.00 A",
          "Connection: MUF0001004_node-HAS0000003_node<br>Link Length: 22.1 m<br>Aggregated Imax: 119.00 A",
          "Connection: MUF0001010_node-PIN0000225_node<br>Link Length: 21.5 m<br>Aggregated Imax: 175.00 A",
          "Connection: HAS0000005_node-MUF0000200_node<br>Link Length: 48.7 m<br>Aggregated Imax: 69.00 A",
          "Connection: MUF0000200_node-PIN0000225_node<br>Link Length: 21.5 m<br>Aggregated Imax: 69.00 A",
          "Connection: PIN0000225_node-MUF0000193_node<br>Link Length: 14.7 m<br>Aggregated Imax: 69.00 A",
          "Connection: PIN0000225_node-MUF0000197_node<br>Link Length: 50.8 m<br>Aggregated Imax: 119.00 A",
          "Connection: PIN0000225_node-MUF0001009_node<br>Link Length: 21.5 m<br>Aggregated Imax: 119.00 A",
          "Connection: PIN0000225_node-PIN0000226_node<br>Link Length: 65.3 m<br>Aggregated Imax: 175.00 A",
          "Connection: HAS0000006_node-MUF0000193_node<br>Link Length: 3.2 m<br>Aggregated Imax: 56.00 A",
          "Connection: HAS0000007_node-MUF0000009_node<br>Link Length: 4.8 m<br>Aggregated Imax: 42.00 A",
          "Connection: MUF0000009_node-HAS0000008_node<br>Link Length: 14.2 m<br>Aggregated Imax: 69.00 A",
          "Connection: MUF0000009_node-PIN0000154_node<br>Link Length: 94.3 m<br>Aggregated Imax: 140.00 A",
          "Connection: PIN0000154_node-MUF0000030_node<br>Link Length: 44.3 m<br>Aggregated Imax: 140.00 A",
          "Connection: PIN0000154_node-HAS0000034_node<br>Link Length: 9.1 m<br>Aggregated Imax: 204.00 A",
          "Connection: PIN0000154_node-MUF0000184_node<br>Link Length: 92.2 m<br>Aggregated Imax: 171.50 A",
          "Connection: PIN0000154_node-HAS0000043_node<br>Link Length: 37.5 m<br>Aggregated Imax: 119.00 A",
          "Connection: PIN0000154_node-HAS0000048_node<br>Link Length: 2.2 m<br>Aggregated Imax: 2000.00 A",
          "Connection: PIN0000154_node-PIN0000224_node<br>Link Length: 92.8 m<br>Aggregated Imax: 266.00 A",
          "Connection: PIN0000154_node-PIN0000223_node<br>Link Length: 182.5 m<br>Aggregated Imax: 383.00 A",
          "Connection: PIN0000154_node-PIN0000226_node<br>Link Length: 140.3 m<br>Aggregated Imax: 266.00 A",
          "Connection: PIN0000154_node-ABG0000137_node<br>Link Length: 127.0 m<br>Aggregated Imax: 195.00 A",
          "Connection: HAS0000010_node-PIN0000226_node<br>Link Length: 23.4 m<br>Aggregated Imax: 119.00 A",
          "Connection: PIN0000226_node-HAS0000011_node<br>Link Length: 37.6 m<br>Aggregated Imax: 69.00 A",
          "Connection: PIN0000226_node-MUF0000013_node<br>Link Length: 57.5 m<br>Aggregated Imax: 195.00 A",
          "Connection: PIN0000226_node-HAS0000163_node<br>Link Length: 47.5 m<br>Aggregated Imax: 119.00 A",
          "Connection: HAS0000012_node-MUF0000013_node<br>Link Length: 9.7 m<br>Aggregated Imax: 56.00 A",
          "Connection: MUF0000013_node-MUF0001005_node<br>Link Length: 20.3 m<br>Aggregated Imax: 140.00 A",
          "Connection: MUF0000013_node-ABG0000078_node<br>Link Length: 20.7 m<br>Aggregated Imax: 140.00 A",
          "Connection: MUF0001005_node-HAS0000014_node<br>Link Length: 46.5 m<br>Aggregated Imax: 56.00 A",
          "Connection: MUF0001005_node-HAS0000015_node<br>Link Length: 7.7 m<br>Aggregated Imax: 56.00 A",
          "Connection: ABG0000078_node-MUF0000017_node<br>Link Length: 113.9 m<br>Aggregated Imax: 69.00 A",
          "Connection: ABG0000078_node-HAS0000166_node<br>Link Length: 28.9 m<br>Aggregated Imax: 119.00 A",
          "Connection: HAS0000016_node-MUF0000017_node<br>Link Length: 621.8 m<br>Aggregated Imax: 69.00 A",
          "Connection: HAS0000018_node-PIN0000224_node<br>Link Length: 61.1 m<br>Aggregated Imax: 119.00 A",
          "Connection: PIN0000224_node-HAS0000019_node<br>Link Length: 30.6 m<br>Aggregated Imax: 119.00 A",
          "Connection: PIN0000224_node-HAS0000020_node<br>Link Length: 31.1 m<br>Aggregated Imax: 119.00 A",
          "Connection: PIN0000224_node-HAS0000021_node<br>Link Length: 13.5 m<br>Aggregated Imax: 119.00 A",
          "Connection: HAS0000024_node-MUF0000030_node<br>Link Length: 4.3 m<br>Aggregated Imax: 94.50 A",
          "Connection: MUF0000030_node-MUF0001007_node<br>Link Length: 37.5 m<br>Aggregated Imax: 140.00 A",
          "Connection: MUF0001007_node-MUF0000028_node<br>Link Length: 15.8 m<br>Aggregated Imax: 140.00 A",
          "Connection: MUF0001007_node-HAS0000029_node<br>Link Length: 11.1 m<br>Aggregated Imax: 56.00 A",
          "Connection: HAS0000026_node-MUF0000028_node<br>Link Length: 7.4 m<br>Aggregated Imax: 56.00 A",
          "Connection: MUF0000028_node-MUF0000032_node<br>Link Length: 36.0 m<br>Aggregated Imax: 140.00 A",
          "Connection: MUF0000032_node-HAS0000027_node<br>Link Length: 1.9 m<br>Aggregated Imax: 77.00 A",
          "Connection: MUF0000032_node-MUF0000033_node<br>Link Length: 18.7 m<br>Aggregated Imax: 140.00 A",
          "Connection: MUF0000033_node-HAS0000031_node<br>Link Length: 4.0 m<br>Aggregated Imax: 94.50 A",
          "Connection: HAS0000035_node-MUF0000184_node<br>Link Length: 6.9 m<br>Aggregated Imax: 140.00 A",
          "Connection: MUF0000184_node-PIN0000227_node<br>Link Length: 34.7 m<br>Aggregated Imax: 171.50 A",
          "Connection: PIN0000227_node-HAS0000042_node<br>Link Length: 1.7 m<br>Aggregated Imax: 79.00 A",
          "Connection: HAS0000037_node-MUF0000049_node<br>Link Length: 4.8 m<br>Aggregated Imax: 42.00 A",
          "Connection: MUF0000049_node-ABG0000152_node<br>Link Length: 41.6 m<br>Aggregated Imax: 69.00 A",
          "Connection: ABG0000152_node-HAS0000050_node<br>Link Length: 7.7 m<br>Aggregated Imax: 69.00 A",
          "Connection: ABG0000152_node-HAS0000167_node<br>Link Length: 7.5 m<br>Aggregated Imax: 69.00 A",
          "Connection: ABG0000152_node-HAS0000168_node<br>Link Length: 32.2 m<br>Aggregated Imax: 69.00 A",
          "Connection: ABG0000152_node-HAS0000169_node<br>Link Length: 58.3 m<br>Aggregated Imax: 69.00 A",
          "Connection: ABG0000152_node-ABG0000137_node<br>Link Length: 25.8 m<br>Aggregated Imax: 175.00 A",
          "Connection: HAS0000038_node-MUF0000052_node<br>Link Length: 13.1 m<br>Aggregated Imax: 56.00 A",
          "Connection: MUF0000052_node-ABG0000053_node<br>Link Length: 19.2 m<br>Aggregated Imax: 119.00 A",
          "Connection: ABG0000053_node-MUF0000040_node<br>Link Length: 34.8 m<br>Aggregated Imax: 266.00 A",
          "Connection: ABG0000053_node-HAS0000051_node<br>Link Length: 48.3 m<br>Aggregated Imax: 107.00 A",
          "Connection: ABG0000053_node-MUF0001062_node<br>Link Length: 19.2 m<br>Aggregated Imax: 119.00 A",
          "Connection: ABG0000053_node-MUF0001061_node<br>Link Length: 14.0 m<br>Aggregated Imax: 119.00 A",
          "Connection: ABG0000053_node-HAS0000161_node<br>Link Length: 38.7 m<br>Aggregated Imax: 119.00 A",
          "Connection: ABG0000053_node-ABG0000137_node<br>Link Length: 105.1 m<br>Aggregated Imax: 386.00 A",
          "Connection: HAS0000039_node-MUF0001008_node<br>Link Length: 5.6 m<br>Aggregated Imax: 94.50 A",
          "Connection: MUF0001008_node-MUF0000040_node<br>Link Length: 66.6 m<br>Aggregated Imax: 266.00 A",
          "Connection: HAS0000041_node-PIN0000223_node<br>Link Length: 68.5 m<br>Aggregated Imax: 175.00 A",
          "Connection: PIN0000223_node-HAS0000172_node<br>Link Length: 12.6 m<br>Aggregated Imax: 175.00 A",
          "Connection: PIN0000223_node-HAS0000174_node<br>Link Length: 31.9 m<br>Aggregated Imax: 175.00 A",
          "Connection: PIN0000223_node-HAS0000173_node<br>Link Length: 34.5 m<br>Aggregated Imax: 69.00 A",
          "Connection: PIN0000223_node-HAS0000162_node<br>Link Length: 37.2 m<br>Aggregated Imax: 119.00 A",
          "Connection: HAS0000044_node-MUF0000197_node<br>Link Length: 8.4 m<br>Aggregated Imax: 77.00 A",
          "Connection: HAS0000045_node-MUF0001009_node<br>Link Length: 70.7 m<br>Aggregated Imax: 119.00 A",
          "Connection: MUF0001062_node-HAS0000171_node<br>Link Length: 5.6 m<br>Aggregated Imax: 56.00 A",
          "Connection: MUF0001061_node-HAS0000170_node<br>Link Length: 10.4 m<br>Aggregated Imax: 56.00 A"
         ],
         "type": "scatter",
         "x": [
          6.893490011278977,
          6.547712135696214,
          6.603248237439577,
          7.310266877023496,
          7.766763718755222,
          1.3623623819041815,
          1.2416810826305897,
          1.5365389920514572,
          1.001354282260976,
          1.8456475844033213,
          2.184047575754558,
          2.0734560192410108,
          1.9052738182753333,
          1.8158352563607205,
          1.8536324154113175,
          1,
          1.7325792611362307,
          10.676726372929501,
          10.753420965512486,
          10.277295023734808,
          9.888564220772885,
          10.174559046611613,
          8.500548895734097,
          10.107157882371705,
          9.999928587143792,
          9,
          8,
          5,
          10.14663620005716,
          -0.15383341070514847,
          -0.06409314526057136,
          -0.4806998528796305,
          -0.1414785532606721,
          -1.112413755090777,
          -1.2949246107609678,
          -1.2352868369528307,
          -1.8237546825575495,
          -1.82133458122884,
          -1.709272605954534,
          -1.6567891496373144,
          -2.0564922362661284,
          7.904791988340764,
          8.129472030723806,
          7.982450131730678,
          8.074153844209071,
          9.916901024456834,
          9.615038153748987,
          9.249838355666537,
          9.524262336820794,
          9.038344836117343,
          8.870683248488533,
          8.679343157438286,
          8.551410698676046,
          8.325285450709066,
          6.971086091238179,
          5.500548895734097,
          3.9224677869473643,
          11.380800133825481,
          11.103563536568036,
          11.154236156864812,
          11.0109311521821,
          11.107309976259222,
          11.143468817552286,
          10.621988164180205,
          9.559682909176516,
          9.642993711837555,
          9.531536473928421,
          9.87613620516732,
          9.504262935420122,
          9.539780260893412,
          9.797365353197556,
          9.998716771232374,
          8.945593277660798,
          9.203288085112483,
          5.83401075030086,
          5.899587058955056,
          5.94094509115933,
          5.8541810895800115,
          6.046511892778622,
          1.477234278989273,
          1.5577827356156466,
          9.156267901687968,
          9.23258637611426
         ],
         "y": [
          2.4476473307301134,
          2.8271679758510198,
          2.91894316419837,
          1.887859720371847,
          1.2968958000658257,
          2.3857932086060387,
          2.4548384702003183,
          1.9370353756312357,
          2.8196589948857103,
          1.318358142442987,
          0.4535397693187153,
          0.8115064078068266,
          0.7671030167621333,
          0.8912119624774784,
          1.0710201816790268,
          1,
          0.34895158917393354,
          0.3709760328394939,
          0.450157159662705,
          0.7711772291256022,
          1.5993693853330908,
          0.9495465781876562,
          0.985769819828421,
          0.8442333987546156,
          0.8214085013619936,
          1,
          1,
          1,
          1.5628147457240114,
          0.908290106792123,
          0.8447150841137854,
          1.236365470789145,
          1.0273103750485126,
          1.4242885937644392,
          1.5204189380196715,
          1.7543782093551883,
          1.626618241037722,
          1.524363686592665,
          2.2746243934646557,
          2.1357910089653958,
          2.677359593361201,
          0.884256531735839,
          0.9220039706966937,
          0.8127015385307781,
          0.8306339536753642,
          2.1101596106354554,
          2.803545939894115,
          3.927997560976646,
          3.5931591787031003,
          4.650185593008461,
          4.853524576113168,
          5.454974476143313,
          5.540407318847076,
          6.019041546904255,
          0.809800194902581,
          0.985769819828421,
          0.9002160859608961,
          3.760798442667384,
          3.269926887361443,
          3.042480614457271,
          3.1308255244897554,
          3.1208608716727193,
          2.941500753029215,
          2.5483274830783453,
          2.171730661231825,
          2.5057675984288994,
          2.95200891213818,
          2.715389452288994,
          2.622127983685388,
          2.8022347443060873,
          2.821485594019407,
          2.4033136526990417,
          3.838252298580996,
          3.450170982785969,
          0.9948006336157866,
          1.1027661298076792,
          0.8396322893184185,
          0.8846539033247833,
          0.8388227730026232,
          0.6840502251534788,
          1.1853296086946816,
          2.50964591487973,
          3.0075757845332896
         ]
        },
        {
         "hoverinfo": "text",
         "marker": {
          "color": "#FFD700",
          "size": 22,
          "symbol": "star"
         },
         "mode": "markers",
         "name": "Root",
         "text": [
          "<b>ID: PIN0000225_node</b><br>Type: Network Root",
          "<b>ID: PIN0000154_node</b><br>Type: Network Root",
          "<b>ID: PIN0000226_node</b><br>Type: Network Root",
          "<b>ID: PIN0000224_node</b><br>Type: Network Root",
          "<b>ID: PIN0000227_node</b><br>Type: Network Root",
          "<b>ID: PIN0000223_node</b><br>Type: Network Root"
         ],
         "type": "scatter",
         "x": [
          2,
          10,
          0,
          8,
          4,
          6
         ],
         "y": [
          1,
          1,
          1,
          1,
          1,
          1
         ]
        },
        {
         "hoverinfo": "text",
         "marker": {
          "color": "grey",
          "size": 10
         },
         "mode": "markers",
         "name": "Junction",
         "text": [
          "<b>ID: FLU0000001_node</b><br>Type: Junction Point",
          "<b>ID: FLU0000022_node</b><br>Type: Junction Point",
          "<b>ID: MUF0001006_node</b><br>Type: Junction Point",
          "<b>ID: MUF0000004_node</b><br>Type: Junction Point",
          "<b>ID: MUF0001004_node</b><br>Type: Junction Point",
          "<b>ID: MUF0001010_node</b><br>Type: Junction Point",
          "<b>ID: MUF0000200_node</b><br>Type: Junction Point",
          "<b>ID: MUF0000193_node</b><br>Type: Junction Point",
          "<b>ID: MUF0000009_node</b><br>Type: Junction Point",
          "<b>ID: MUF0000013_node</b><br>Type: Junction Point",
          "<b>ID: MUF0001005_node</b><br>Type: Junction Point",
          "<b>ID: ABG0000078_node</b><br>Type: Junction Point",
          "<b>ID: MUF0000017_node</b><br>Type: Junction Point",
          "<b>ID: MUF0000030_node</b><br>Type: Junction Point",
          "<b>ID: MUF0001007_node</b><br>Type: Junction Point",
          "<b>ID: MUF0000028_node</b><br>Type: Junction Point",
          "<b>ID: MUF0000032_node</b><br>Type: Junction Point",
          "<b>ID: MUF0000033_node</b><br>Type: Junction Point",
          "<b>ID: MUF0000184_node</b><br>Type: Junction Point",
          "<b>ID: MUF0000049_node</b><br>Type: Junction Point",
          "<b>ID: ABG0000152_node</b><br>Type: Junction Point",
          "<b>ID: MUF0000052_node</b><br>Type: Junction Point",
          "<b>ID: ABG0000053_node</b><br>Type: Junction Point",
          "<b>ID: MUF0001008_node</b><br>Type: Junction Point",
          "<b>ID: MUF0000040_node</b><br>Type: Junction Point",
          "<b>ID: MUF0000197_node</b><br>Type: Junction Point",
          "<b>ID: MUF0001009_node</b><br>Type: Junction Point",
          "<b>ID: ABG0000137_node</b><br>Type: Junction Point",
          "<b>ID: MUF0001062_node</b><br>Type: Junction Point",
          "<b>ID: MUF0001061_node</b><br>Type: Junction Point"
         ],
         "type": "scatter",
         "x": [
          6.699973706021405,
          7.087006316536549,
          7.533527437510443,
          1.3817828152962714,
          1.1015793499649078,
          1.6912951688066429,
          2.146912038482021,
          1.8105476365506665,
          10.554590047469615,
          -0.961399705759261,
          -1.6284495157626746,
          -1.5091739681464005,
          -1.9093712437626673,
          9.777128441545772,
          9.452947865952202,
          9.046728845380873,
          8.694637651596194,
          8.408183745755897,
          7.001097791468194,
          11.25642314488998,
          10.950703928246089,
          9.581826281324682,
          9.704161142350426,
          9.047664364718552,
          9.358911805506416,
          1.631670512721441,
          1.707264830822635,
          10.29327240011432,
          9.304364728489817,
          9.3753993794364
         ],
         "y": [
          2.7133668208481843,
          2.1819278406120426,
          1.5937916001316514,
          2.2373544663764977,
          2.672322474024139,
          1.636716284885974,
          0.6230128156136531,
          0.5342060335242667,
          0.5423544582512043,
          1.4727309415782899,
          1.5681069344610534,
          2.0360254771320867,
          2.513223309797225,
          2.1987387706661816,
          3.408353109122049,
          4.447642012831243,
          5.259407139395093,
          5.821407498299059,
          0.9715396396568421,
          3.568828300014218,
          2.971025474708668,
          2.330537382907738,
          2.6809978139500608,
          3.6773219552456387,
          3.223020010326299,
          0.7824239249549567,
          1.1420403633580534,
          2.1256294914480227,
          2.563258153420715,
          2.9234716746621134
         ]
        },
        {
         "hoverinfo": "text",
         "marker": {
          "color": "green",
          "size": [
           14,
           14,
           14,
           14,
           14,
           14,
           14,
           14,
           14,
           14,
           14,
           14,
           14,
           14,
           14,
           14,
           14,
           14,
           14,
           14,
           14,
           14,
           14,
           14,
           14,
           14,
           14,
           14,
           14,
           14,
           14,
           14,
           14,
           14,
           14,
           14,
           14,
           14,
           14,
           14,
           14,
           14,
           14,
           14,
           14,
           14,
           14,
           14
          ],
          "symbol": "square"
         },
         "mode": "markers",
         "name": "Consumer (OK)",
         "text": [
          "<b>ID: HAS0000164_node</b><br>Type: Consumer Node<br>Contained Consumers: 1",
          "<b>ID: HAS0000165_node</b><br>Type: Consumer Node<br>Contained Consumers: 1",
          "<b>ID: HAS0000002_node</b><br>Type: Consumer Node<br>Contained Consumers: 1",
          "<b>ID: HAS0000003_node</b><br>Type: Consumer Node<br>Contained Consumers: 1",
          "<b>ID: HAS0000005_node</b><br>Type: Consumer Node<br>Contained Consumers: 1",
          "<b>ID: HAS0000006_node</b><br>Type: Consumer Node<br>Contained Consumers: 1",
          "<b>ID: HAS0000007_node</b><br>Type: Consumer Node<br>Contained Consumers: 1",
          "<b>ID: HAS0000008_node</b><br>Type: Consumer Node<br>Contained Consumers: 1",
          "<b>ID: HAS0000010_node</b><br>Type: Consumer Node<br>Contained Consumers: 1",
          "<b>ID: HAS0000011_node</b><br>Type: Consumer Node<br>Contained Consumers: 1",
          "<b>ID: HAS0000012_node</b><br>Type: Consumer Node<br>Contained Consumers: 1",
          "<b>ID: HAS0000014_node</b><br>Type: Consumer Node<br>Contained Consumers: 1",
          "<b>ID: HAS0000015_node</b><br>Type: Consumer Node<br>Contained Consumers: 1",
          "<b>ID: HAS0000016_node</b><br>Type: Consumer Node<br>Contained Consumers: 1",
          "<b>ID: HAS0000166_node</b><br>Type: Consumer Node<br>Contained Consumers: 1",
          "<b>ID: HAS0000018_node</b><br>Type: Consumer Node<br>Contained Consumers: 1",
          "<b>ID: HAS0000019_node</b><br>Type: Consumer Node<br>Contained Consumers: 1",
          "<b>ID: HAS0000020_node</b><br>Type: Consumer Node<br>Contained Consumers: 1",
          "<b>ID: HAS0000021_node</b><br>Type: Consumer Node<br>Contained Consumers: 1",
          "<b>ID: HAS0000024_node</b><br>Type: Consumer Node<br>Contained Consumers: 1",
          "<b>ID: HAS0000026_node</b><br>Type: Consumer Node<br>Contained Consumers: 1",
          "<b>ID: HAS0000027_node</b><br>Type: Consumer Node<br>Contained Consumers: 1",
          "<b>ID: HAS0000029_node</b><br>Type: Consumer Node<br>Contained Consumers: 1",
          "<b>ID: HAS0000031_node</b><br>Type: Consumer Node<br>Contained Consumers: 1",
          "<b>ID: HAS0000034_node</b><br>Type: Consumer Node<br>Contained Consumers: 1",
          "<b>ID: HAS0000035_node</b><br>Type: Consumer Node<br>Contained Consumers: 1",
          "<b>ID: HAS0000037_node</b><br>Type: Consumer Node<br>Contained Consumers: 1",
          "<b>ID: HAS0000038_node</b><br>Type: Consumer Node<br>Contained Consumers: 1",
          "<b>ID: HAS0000039_node</b><br>Type: Consumer Node<br>Contained Consumers: 1",
          "<b>ID: HAS0000041_node</b><br>Type: Consumer Node<br>Contained Consumers: 1",
          "<b>ID: HAS0000042_node</b><br>Type: Consumer Node<br>Contained Consumers: 1",
          "<b>ID: HAS0000043_node</b><br>Type: Consumer Node<br>Contained Consumers: 1",
          "<b>ID: HAS0000044_node</b><br>Type: Consumer Node<br>Contained Consumers: 1",
          "<b>ID: HAS0000045_node</b><br>Type: Consumer Node<br>Contained Consumers: 1",
          "<b>ID: HAS0000048_node</b><br>Type: Consumer Node<br>Contained Consumers: 1",
          "<b>ID: HAS0000050_node</b><br>Type: Consumer Node<br>Contained Consumers: 1",
          "<b>ID: HAS0000167_node</b><br>Type: Consumer Node<br>Contained Consumers: 1",
          "<b>ID: HAS0000168_node</b><br>Type: Consumer Node<br>Contained Consumers: 1",
          "<b>ID: HAS0000169_node</b><br>Type: Consumer Node<br>Contained Consumers: 1",
          "<b>ID: HAS0000051_node</b><br>Type: Consumer Node<br>Contained Consumers: 1",
          "<b>ID: HAS0000161_node</b><br>Type: Consumer Node<br>Contained Consumers: 1",
          "<b>ID: HAS0000172_node</b><br>Type: Consumer Node<br>Contained Consumers: 1",
          "<b>ID: HAS0000174_node</b><br>Type: Consumer Node<br>Contained Consumers: 1",
          "<b>ID: HAS0000173_node</b><br>Type: Consumer Node<br>Contained Consumers: 1",
          "<b>ID: HAS0000162_node</b><br>Type: Consumer Node<br>Contained Consumers: 1",
          "<b>ID: HAS0000163_node</b><br>Type: Consumer Node<br>Contained Consumers: 1",
          "<b>ID: HAS0000170_node</b><br>Type: Consumer Node<br>Contained Consumers: 1",
          "<b>ID: HAS0000171_node</b><br>Type: Consumer Node<br>Contained Consumers: 1"
         ],
         "type": "scatter",
         "x": [
          6.395450565371022,
          6.506522768857749,
          1.3429419485120915,
          0.9011292145570441,
          2.2211831130270947,
          1.6546108857217952,
          10.798862698389387,
          10.952251883555359,
          -0.30766682141029694,
          -0.12818629052114272,
          -1.2634278044222929,
          -2.0190598493524243,
          -2.0142196466950053,
          -2.2036132287695893,
          -1.8044043311282283,
          7.8095839766815285,
          8.258944061447611,
          7.964900263461355,
          8.148307688418143,
          10.056673607367895,
          9.029960826853811,
          8.664048663280376,
          9.595576807689387,
          8.242387155662234,
          10.349118093223224,
          6.941074391008165,
          11.50517712276098,
          9.53753953702835,
          8.843522190603045,
          5.66802150060172,
          3.8449355738947286,
          10.214315764743413,
          1.3227980452571049,
          1.4083006404086584,
          9.999857174287584,
          11.357768385483533,
          11.07115837611811,
          11.263916024272355,
          11.336233706858481,
          10.048111267984217,
          9.890569564044684,
          5.7991741179101135,
          5.88189018231866,
          5.708362179160022,
          6.093023785557245,
          -0.2829571065213442,
          9.08977337279212,
          9.00817107488612
         ],
         "y": [
          2.9409691308538553,
          3.1245195075485555,
          2.5342319508355797,
          2.966995515747282,
          0.28406672302377756,
          0.16369714482360037,
          0.19959760742778343,
          0.35795986107420563,
          0.8165802135842459,
          0.6894301682275706,
          1.3758462459505882,
          1.6851295476143904,
          1.4806204387242765,
          2.8414958769251775,
          2.2355565407987044,
          0.7685130634716779,
          0.8440079413933874,
          0.6254030770615561,
          0.6612679073507283,
          2.0215804506047292,
          4.852729173185679,
          5.650541812891533,
          3.7779652482841515,
          6.216675595509452,
          0.8990931563753124,
          0.6480607501483199,
          3.9527685853205496,
          2.012923939555912,
          3.999182641916353,
          0.9896012672315734,
          0.8004321719217921,
          0.6884667975092312,
          0.585676525352001,
          1.22861885403131,
          0.6428170027239873,
          3.1139357542058743,
          3.2906255742708432,
          3.270696268636771,
          2.911976031349762,
          2.7497810906279274,
          2.9619733740887533,
          1.2055322596153586,
          0.6792645786368369,
          0.7693078066495667,
          0.6776455460052463,
          1.0546207500970255,
          3.0916798944044657,
          2.4560336763387447
         ]
        }
       ],
       "layout": {
        "hovermode": "closest",
        "legend": {
         "orientation": "h",
         "x": 1,
         "xanchor": "right",
         "y": 1.02,
         "yanchor": "bottom"
        },
        "margin": {
         "b": 10,
         "l": 10,
         "r": 10,
         "t": 40
        },
        "showlegend": true,
        "template": {
         "data": {
          "bar": [
           {
            "error_x": {
             "color": "#f2f5fa"
            },
            "error_y": {
             "color": "#f2f5fa"
            },
            "marker": {
             "line": {
              "color": "rgb(17,17,17)",
              "width": 0.5
             },
             "pattern": {
              "fillmode": "overlay",
              "size": 10,
              "solidity": 0.2
             }
            },
            "type": "bar"
           }
          ],
          "barpolar": [
           {
            "marker": {
             "line": {
              "color": "rgb(17,17,17)",
              "width": 0.5
             },
             "pattern": {
              "fillmode": "overlay",
              "size": 10,
              "solidity": 0.2
             }
            },
            "type": "barpolar"
           }
          ],
          "carpet": [
           {
            "aaxis": {
             "endlinecolor": "#A2B1C6",
             "gridcolor": "#506784",
             "linecolor": "#506784",
             "minorgridcolor": "#506784",
             "startlinecolor": "#A2B1C6"
            },
            "baxis": {
             "endlinecolor": "#A2B1C6",
             "gridcolor": "#506784",
             "linecolor": "#506784",
             "minorgridcolor": "#506784",
             "startlinecolor": "#A2B1C6"
            },
            "type": "carpet"
           }
          ],
          "choropleth": [
           {
            "colorbar": {
             "outlinewidth": 0,
             "ticks": ""
            },
            "type": "choropleth"
           }
          ],
          "contour": [
           {
            "colorbar": {
             "outlinewidth": 0,
             "ticks": ""
            },
            "colorscale": [
             [
              0,
              "#0d0887"
             ],
             [
              0.1111111111111111,
              "#46039f"
             ],
             [
              0.2222222222222222,
              "#7201a8"
             ],
             [
              0.3333333333333333,
              "#9c179e"
             ],
             [
              0.4444444444444444,
              "#bd3786"
             ],
             [
              0.5555555555555556,
              "#d8576b"
             ],
             [
              0.6666666666666666,
              "#ed7953"
             ],
             [
              0.7777777777777778,
              "#fb9f3a"
             ],
             [
              0.8888888888888888,
              "#fdca26"
             ],
             [
              1,
              "#f0f921"
             ]
            ],
            "type": "contour"
           }
          ],
          "contourcarpet": [
           {
            "colorbar": {
             "outlinewidth": 0,
             "ticks": ""
            },
            "type": "contourcarpet"
           }
          ],
          "heatmap": [
           {
            "colorbar": {
             "outlinewidth": 0,
             "ticks": ""
            },
            "colorscale": [
             [
              0,
              "#0d0887"
             ],
             [
              0.1111111111111111,
              "#46039f"
             ],
             [
              0.2222222222222222,
              "#7201a8"
             ],
             [
              0.3333333333333333,
              "#9c179e"
             ],
             [
              0.4444444444444444,
              "#bd3786"
             ],
             [
              0.5555555555555556,
              "#d8576b"
             ],
             [
              0.6666666666666666,
              "#ed7953"
             ],
             [
              0.7777777777777778,
              "#fb9f3a"
             ],
             [
              0.8888888888888888,
              "#fdca26"
             ],
             [
              1,
              "#f0f921"
             ]
            ],
            "type": "heatmap"
           }
          ],
          "histogram": [
           {
            "marker": {
             "pattern": {
              "fillmode": "overlay",
              "size": 10,
              "solidity": 0.2
             }
            },
            "type": "histogram"
           }
          ],
          "histogram2d": [
           {
            "colorbar": {
             "outlinewidth": 0,
             "ticks": ""
            },
            "colorscale": [
             [
              0,
              "#0d0887"
             ],
             [
              0.1111111111111111,
              "#46039f"
             ],
             [
              0.2222222222222222,
              "#7201a8"
             ],
             [
              0.3333333333333333,
              "#9c179e"
             ],
             [
              0.4444444444444444,
              "#bd3786"
             ],
             [
              0.5555555555555556,
              "#d8576b"
             ],
             [
              0.6666666666666666,
              "#ed7953"
             ],
             [
              0.7777777777777778,
              "#fb9f3a"
             ],
             [
              0.8888888888888888,
              "#fdca26"
             ],
             [
              1,
              "#f0f921"
             ]
            ],
            "type": "histogram2d"
           }
          ],
          "histogram2dcontour": [
           {
            "colorbar": {
             "outlinewidth": 0,
             "ticks": ""
            },
            "colorscale": [
             [
              0,
              "#0d0887"
             ],
             [
              0.1111111111111111,
              "#46039f"
             ],
             [
              0.2222222222222222,
              "#7201a8"
             ],
             [
              0.3333333333333333,
              "#9c179e"
             ],
             [
              0.4444444444444444,
              "#bd3786"
             ],
             [
              0.5555555555555556,
              "#d8576b"
             ],
             [
              0.6666666666666666,
              "#ed7953"
             ],
             [
              0.7777777777777778,
              "#fb9f3a"
             ],
             [
              0.8888888888888888,
              "#fdca26"
             ],
             [
              1,
              "#f0f921"
             ]
            ],
            "type": "histogram2dcontour"
           }
          ],
          "mesh3d": [
           {
            "colorbar": {
             "outlinewidth": 0,
             "ticks": ""
            },
            "type": "mesh3d"
           }
          ],
          "parcoords": [
           {
            "line": {
             "colorbar": {
              "outlinewidth": 0,
              "ticks": ""
             }
            },
            "type": "parcoords"
           }
          ],
          "pie": [
           {
            "automargin": true,
            "type": "pie"
           }
          ],
          "scatter": [
           {
            "marker": {
             "line": {
              "color": "#283442"
             }
            },
            "type": "scatter"
           }
          ],
          "scatter3d": [
           {
            "line": {
             "colorbar": {
              "outlinewidth": 0,
              "ticks": ""
             }
            },
            "marker": {
             "colorbar": {
              "outlinewidth": 0,
              "ticks": ""
             }
            },
            "type": "scatter3d"
           }
          ],
          "scattercarpet": [
           {
            "marker": {
             "colorbar": {
              "outlinewidth": 0,
              "ticks": ""
             }
            },
            "type": "scattercarpet"
           }
          ],
          "scattergeo": [
           {
            "marker": {
             "colorbar": {
              "outlinewidth": 0,
              "ticks": ""
             }
            },
            "type": "scattergeo"
           }
          ],
          "scattergl": [
           {
            "marker": {
             "line": {
              "color": "#283442"
             }
            },
            "type": "scattergl"
           }
          ],
          "scattermap": [
           {
            "marker": {
             "colorbar": {
              "outlinewidth": 0,
              "ticks": ""
             }
            },
            "type": "scattermap"
           }
          ],
          "scattermapbox": [
           {
            "marker": {
             "colorbar": {
              "outlinewidth": 0,
              "ticks": ""
             }
            },
            "type": "scattermapbox"
           }
          ],
          "scatterpolar": [
           {
            "marker": {
             "colorbar": {
              "outlinewidth": 0,
              "ticks": ""
             }
            },
            "type": "scatterpolar"
           }
          ],
          "scatterpolargl": [
           {
            "marker": {
             "colorbar": {
              "outlinewidth": 0,
              "ticks": ""
             }
            },
            "type": "scatterpolargl"
           }
          ],
          "scatterternary": [
           {
            "marker": {
             "colorbar": {
              "outlinewidth": 0,
              "ticks": ""
             }
            },
            "type": "scatterternary"
           }
          ],
          "surface": [
           {
            "colorbar": {
             "outlinewidth": 0,
             "ticks": ""
            },
            "colorscale": [
             [
              0,
              "#0d0887"
             ],
             [
              0.1111111111111111,
              "#46039f"
             ],
             [
              0.2222222222222222,
              "#7201a8"
             ],
             [
              0.3333333333333333,
              "#9c179e"
             ],
             [
              0.4444444444444444,
              "#bd3786"
             ],
             [
              0.5555555555555556,
              "#d8576b"
             ],
             [
              0.6666666666666666,
              "#ed7953"
             ],
             [
              0.7777777777777778,
              "#fb9f3a"
             ],
             [
              0.8888888888888888,
              "#fdca26"
             ],
             [
              1,
              "#f0f921"
             ]
            ],
            "type": "surface"
           }
          ],
          "table": [
           {
            "cells": {
             "fill": {
              "color": "#506784"
             },
             "line": {
              "color": "rgb(17,17,17)"
             }
            },
            "header": {
             "fill": {
              "color": "#2a3f5f"
             },
             "line": {
              "color": "rgb(17,17,17)"
             }
            },
            "type": "table"
           }
          ]
         },
         "layout": {
          "annotationdefaults": {
           "arrowcolor": "#f2f5fa",
           "arrowhead": 0,
           "arrowwidth": 1
          },
          "autotypenumbers": "strict",
          "coloraxis": {
           "colorbar": {
            "outlinewidth": 0,
            "ticks": ""
           }
          },
          "colorscale": {
           "diverging": [
            [
             0,
             "#8e0152"
            ],
            [
             0.1,
             "#c51b7d"
            ],
            [
             0.2,
             "#de77ae"
            ],
            [
             0.3,
             "#f1b6da"
            ],
            [
             0.4,
             "#fde0ef"
            ],
            [
             0.5,
             "#f7f7f7"
            ],
            [
             0.6,
             "#e6f5d0"
            ],
            [
             0.7,
             "#b8e186"
            ],
            [
             0.8,
             "#7fbc41"
            ],
            [
             0.9,
             "#4d9221"
            ],
            [
             1,
             "#276419"
            ]
           ],
           "sequential": [
            [
             0,
             "#0d0887"
            ],
            [
             0.1111111111111111,
             "#46039f"
            ],
            [
             0.2222222222222222,
             "#7201a8"
            ],
            [
             0.3333333333333333,
             "#9c179e"
            ],
            [
             0.4444444444444444,
             "#bd3786"
            ],
            [
             0.5555555555555556,
             "#d8576b"
            ],
            [
             0.6666666666666666,
             "#ed7953"
            ],
            [
             0.7777777777777778,
             "#fb9f3a"
            ],
            [
             0.8888888888888888,
             "#fdca26"
            ],
            [
             1,
             "#f0f921"
            ]
           ],
           "sequentialminus": [
            [
             0,
             "#0d0887"
            ],
            [
             0.1111111111111111,
             "#46039f"
            ],
            [
             0.2222222222222222,
             "#7201a8"
            ],
            [
             0.3333333333333333,
             "#9c179e"
            ],
            [
             0.4444444444444444,
             "#bd3786"
            ],
            [
             0.5555555555555556,
             "#d8576b"
            ],
            [
             0.6666666666666666,
             "#ed7953"
            ],
            [
             0.7777777777777778,
             "#fb9f3a"
            ],
            [
             0.8888888888888888,
             "#fdca26"
            ],
            [
             1,
             "#f0f921"
            ]
           ]
          },
          "colorway": [
           "#636efa",
           "#EF553B",
           "#00cc96",
           "#ab63fa",
           "#FFA15A",
           "#19d3f3",
           "#FF6692",
           "#B6E880",
           "#FF97FF",
           "#FECB52"
          ],
          "font": {
           "color": "#f2f5fa"
          },
          "geo": {
           "bgcolor": "rgb(17,17,17)",
           "lakecolor": "rgb(17,17,17)",
           "landcolor": "rgb(17,17,17)",
           "showlakes": true,
           "showland": true,
           "subunitcolor": "#506784"
          },
          "hoverlabel": {
           "align": "left"
          },
          "hovermode": "closest",
          "mapbox": {
           "style": "dark"
          },
          "paper_bgcolor": "rgb(17,17,17)",
          "plot_bgcolor": "rgb(17,17,17)",
          "polar": {
           "angularaxis": {
            "gridcolor": "#506784",
            "linecolor": "#506784",
            "ticks": ""
           },
           "bgcolor": "rgb(17,17,17)",
           "radialaxis": {
            "gridcolor": "#506784",
            "linecolor": "#506784",
            "ticks": ""
           }
          },
          "scene": {
           "xaxis": {
            "backgroundcolor": "rgb(17,17,17)",
            "gridcolor": "#506784",
            "gridwidth": 2,
            "linecolor": "#506784",
            "showbackground": true,
            "ticks": "",
            "zerolinecolor": "#C8D4E3"
           },
           "yaxis": {
            "backgroundcolor": "rgb(17,17,17)",
            "gridcolor": "#506784",
            "gridwidth": 2,
            "linecolor": "#506784",
            "showbackground": true,
            "ticks": "",
            "zerolinecolor": "#C8D4E3"
           },
           "zaxis": {
            "backgroundcolor": "rgb(17,17,17)",
            "gridcolor": "#506784",
            "gridwidth": 2,
            "linecolor": "#506784",
            "showbackground": true,
            "ticks": "",
            "zerolinecolor": "#C8D4E3"
           }
          },
          "shapedefaults": {
           "line": {
            "color": "#f2f5fa"
           }
          },
          "sliderdefaults": {
           "bgcolor": "#C8D4E3",
           "bordercolor": "rgb(17,17,17)",
           "borderwidth": 1,
           "tickwidth": 0
          },
          "ternary": {
           "aaxis": {
            "gridcolor": "#506784",
            "linecolor": "#506784",
            "ticks": ""
           },
           "baxis": {
            "gridcolor": "#506784",
            "linecolor": "#506784",
            "ticks": ""
           },
           "bgcolor": "rgb(17,17,17)",
           "caxis": {
            "gridcolor": "#506784",
            "linecolor": "#506784",
            "ticks": ""
           }
          },
          "title": {
           "x": 0.05
          },
          "updatemenudefaults": {
           "bgcolor": "#506784",
           "borderwidth": 0
          },
          "xaxis": {
           "automargin": true,
           "gridcolor": "#283442",
           "linecolor": "#506784",
           "ticks": "",
           "title": {
            "standoff": 15
           },
           "zerolinecolor": "#283442",
           "zerolinewidth": 2
          },
          "yaxis": {
           "automargin": true,
           "gridcolor": "#283442",
           "linecolor": "#506784",
           "ticks": "",
           "title": {
            "standoff": 15
           },
           "zerolinecolor": "#283442",
           "zerolinewidth": 2
          }
         }
        },
        "title": {
         "text": "Interactive Visualization of Network Topology station_1"
        },
        "xaxis": {
         "showgrid": false,
         "showticklabels": false,
         "zeroline": false
        },
        "yaxis": {
         "showgrid": false,
         "showticklabels": false,
         "zeroline": false
        }
       }
      }
     },
     "metadata": {},
     "output_type": "display_data"
    }
   ],
   "source": [
    "\n",
    "\n",
    "# ==============================================================================\n",
    "# --- JUPYTER-FRIENDLY INTERACTIVE WIDGETS ---\n",
    "# ==============================================================================\n",
    "import ipywidgets as widgets\n",
    "from IPython.display import display, clear_output\n",
    "\n",
    "# Get a list of all unique stations\n",
    "all_stations = sorted(df_full['station'].unique())\n",
    "\n",
    "# 1. Create the dropdown widget\n",
    "station_dropdown = widgets.Dropdown(\n",
    "    options=all_stations,\n",
    "    description='Select Station:',\n",
    "    value=all_stations[0] if all_stations else None,\n",
    "    disabled=False,\n",
    ")\n",
    "\n",
    "# 2. Create an output widget to hold the prints and plots\n",
    "output_area = widgets.Output()\n",
    "\n",
    "# 3. Define the function that runs when the dropdown value changes\n",
    "def on_station_change(change):\n",
    "    selected_station = change['new']\n",
    "    \n",
    "    with output_area:\n",
    "        clear_output(wait=True)\n",
    "        print(f\"--- Running analysis for station: '{selected_station}' ---\")\n",
    "        df_one_station = df_full[df_full['station'] == selected_station].copy()\n",
    "        \n",
    "        # Build the graph using the MODIFIED function\n",
    "        G, consumer_props, roots = build_and_simplify_network(df_one_station)\n",
    "        \n",
    "        print(\"\\n--- Results ---\")\n",
    "        print(f\"Simplified graph has {G.number_of_nodes()} nodes and {G.number_of_edges()} edges.\")\n",
    "        print(f\"Identified {len(roots)} root node(s): {roots}\")\n",
    "        print(f\"Found properties for {len(consumer_props)} unique consumers.\")\n",
    "        \n",
    "        print(\"\\n--- Network Topology ---\")\n",
    "        visualize_network_topology(graph=G, root_node_ids=roots, optimize_space=True, station_name=selected_station)\n",
    "\n",
    "# 4. Link the function to the dropdown widget\n",
    "station_dropdown.observe(on_station_change, names='value')\n",
    "\n",
    "# 5. Display the UI and run the analysis for the initial default value\n",
    "print(\"Use the dropdown below to select a station.\")\n",
    "display(station_dropdown, output_area)\n",
    "\n",
    "if station_dropdown.value:\n",
    "    on_station_change({'new': station_dropdown.value})"
   ]
  },
  {
   "cell_type": "code",
   "execution_count": null,
   "id": "d0144cc5-128b-4c38-9dd1-294091f54797",
   "metadata": {},
   "outputs": [],
   "source": []
  }
 ],
 "metadata": {
  "environment": {
   "kernel": "edh-hackathon-env",
   "name": "workbench-notebooks.m129",
   "type": "gcloud",
   "uri": "us-docker.pkg.dev/deeplearning-platform-release/gcr.io/workbench-notebooks:m129"
  },
  "kernelspec": {
   "display_name": ".venv",
   "language": "python",
   "name": "python3"
  },
  "language_info": {
   "codemirror_mode": {
    "name": "ipython",
    "version": 3
   },
   "file_extension": ".py",
   "mimetype": "text/x-python",
   "name": "python",
   "nbconvert_exporter": "python",
   "pygments_lexer": "ipython3",
   "version": "3.10.18"
  }
 },
 "nbformat": 4,
 "nbformat_minor": 5
}
