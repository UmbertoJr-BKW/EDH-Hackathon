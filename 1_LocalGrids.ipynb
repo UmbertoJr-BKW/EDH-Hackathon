{
 "cells": [
  {
   "cell_type": "markdown",
   "id": "09ed6a0a-fcb5-4434-bb58-aa081e550aaf",
   "metadata": {},
   "source": [
    "# **Interactive Network Analysis and Visualization**  \n",
    "  \n",
    "This Jupyter Notebook provides a step-by-step approach to analyzing and visualizing network topology data of a power grid. Here's what you'll achieve using this notebook:  \n",
    "  \n",
    "1. **Load and Process Data**: Import network topology data from a CSV file for analysis.  \n",
    "2. **Interactive Station Selection**: Use a dropdown menu to select a station for detailed exploration.  \n",
    "3. **Network Graph Simplification**: Automatically construct and simplify the network graph for the selected station, providing the foundation for your own challenge.\n",
    "4. **Visualize the Network**: Leverage visualization tools to explore the network's structure and layout.  \n",
    "5. **Key Metrics and Insights**: Dynamically display important metrics, such as the number of nodes, edges, root nodes, and consumer properties.  \n",
    "  \n",
    "**How to Use**: Simply select a station from the dropdown menu to analyze its network structure and visualize its topology interactively.  "
   ]
  },
  {
   "cell_type": "code",
   "execution_count": 5,
   "id": "82a0feb8-a628-445e-bc34-33216e1bc907",
   "metadata": {
    "tags": []
   },
   "outputs": [
    {
     "name": "stdout",
     "output_type": "stream",
     "text": [
      "Successfully loaded network data.\n"
     ]
    }
   ],
   "source": [
    "import pandas as pd\n",
    "import numpy as np\n",
    "import networkx as nx\n",
    "import re\n",
    "import pickle\n",
    "\n",
    "\n",
    "from src.visualization import (\n",
    "    visualize_network_topology,\n",
    "    visualize_network_with_failures,\n",
    "    visualize_reinforced_network # Add this import for future use\n",
    ")\n",
    "\n",
    "from src.functions import (\n",
    "    build_and_simplify_network,\n",
    "    find_failures_with_yearly_profile,\n",
    "    suggest_grid_reinforcement,\n",
    ")\n",
    "\n",
    "\n",
    "# --- Start: Loading and Preparing the Data ---\n",
    "# (This part is the same as before)\n",
    "file_path = \"../blob-account-edh/challenge-data/250903_all_stations_anon.csv\"\n",
    "df_full = pd.read_csv(file_path, sep=\";\")\n",
    "print(\"Successfully loaded network data.\")\n"
   ]
  },
  {
   "cell_type": "markdown",
   "id": "4a4a9b59-f7da-47fe-8a87-ca6b4afb5499",
   "metadata": {},
   "source": [
    "The following code provides an interactive tool for exploring network data by station. Use the dropdown menu to select a station, and the analysis results, including network properties and visualizations, will update automatically. Simply choose a station to see its network details."
   ]
  },
  {
   "cell_type": "code",
   "execution_count": 6,
   "id": "41ecc664-38a9-448b-a1d3-4f27d56c66b5",
   "metadata": {
    "tags": []
   },
   "outputs": [
    {
     "name": "stdout",
     "output_type": "stream",
     "text": [
      "Use the dropdown below to select a station.\n"
     ]
    },
    {
     "data": {
      "application/vnd.jupyter.widget-view+json": {
       "model_id": "6d1eb762835149f1bdb1cc1445414889",
       "version_major": 2,
       "version_minor": 0
      },
      "text/plain": [
       "Dropdown(description='Select Station:', options=('station_1', 'station_2', 'station_3', 'station_4', 'station_…"
      ]
     },
     "metadata": {},
     "output_type": "display_data"
    },
    {
     "data": {
      "application/vnd.jupyter.widget-view+json": {
       "model_id": "b39eae17244d4a69a45ca50e9ce8e42e",
       "version_major": 2,
       "version_minor": 0
      },
      "text/plain": [
       "Output()"
      ]
     },
     "metadata": {},
     "output_type": "display_data"
    }
   ],
   "source": [
    "\n",
    "\n",
    "# ==============================================================================\n",
    "# --- JUPYTER-FRIENDLY INTERACTIVE WIDGETS ---\n",
    "# ==============================================================================\n",
    "import ipywidgets as widgets\n",
    "from IPython.display import display, clear_output\n",
    "\n",
    "# Get a list of all unique stations\n",
    "all_stations = sorted(df_full['station'].unique())\n",
    "\n",
    "# 1. Create the dropdown widget\n",
    "station_dropdown = widgets.Dropdown(\n",
    "    options=all_stations,\n",
    "    description='Select Station:',\n",
    "    value=all_stations[0] if all_stations else None,\n",
    "    disabled=False,\n",
    ")\n",
    "\n",
    "# 2. Create an output widget to hold the prints and plots\n",
    "output_area = widgets.Output()\n",
    "\n",
    "# 3. Define the function that runs when the dropdown value changes\n",
    "def on_station_change(change):\n",
    "    selected_station = change['new']\n",
    "    \n",
    "    with output_area:\n",
    "        clear_output(wait=True)\n",
    "        print(f\"--- Running analysis for station: '{selected_station}' ---\")\n",
    "        df_one_station = df_full[df_full['station'] == selected_station].copy()\n",
    "        \n",
    "        # Build the graph using the MODIFIED function\n",
    "        G, consumer_props, roots = build_and_simplify_network(df_one_station)\n",
    "        \n",
    "        print(\"\\n--- Results ---\")\n",
    "        print(f\"Simplified graph has {G.number_of_nodes()} nodes and {G.number_of_edges()} edges.\")\n",
    "        print(f\"Identified {len(roots)} root node(s): {roots}\")\n",
    "        print(f\"Found properties for {len(consumer_props)} unique consumers.\")\n",
    "        \n",
    "        print(\"\\n--- Network Topology ---\")\n",
    "        visualize_network_topology(graph=G, root_node_ids=roots, optimize_space=True, station_name=selected_station)\n",
    "\n",
    "# 4. Link the function to the dropdown widget\n",
    "station_dropdown.observe(on_station_change, names='value')\n",
    "\n",
    "# 5. Display the UI and run the analysis for the initial default value\n",
    "print(\"Use the dropdown below to select a station.\")\n",
    "display(station_dropdown, output_area)\n",
    "\n",
    "if station_dropdown.value:\n",
    "    on_station_change({'new': station_dropdown.value})"
   ]
  },
  {
   "cell_type": "code",
   "execution_count": null,
   "id": "d0144cc5-128b-4c38-9dd1-294091f54797",
   "metadata": {},
   "outputs": [],
   "source": []
  }
 ],
 "metadata": {
  "environment": {
   "kernel": "edh-hackathon-env",
   "name": "workbench-notebooks.m129",
   "type": "gcloud",
   "uri": "us-docker.pkg.dev/deeplearning-platform-release/gcr.io/workbench-notebooks:m129"
  },
  "kernelspec": {
   "display_name": "EDH Hackathon (Conda) (Local)",
   "language": "python",
   "name": "edh-hackathon-env"
  },
  "language_info": {
   "codemirror_mode": {
    "name": "ipython",
    "version": 3
   },
   "file_extension": ".py",
   "mimetype": "text/x-python",
   "name": "python",
   "nbconvert_exporter": "python",
   "pygments_lexer": "ipython3",
   "version": "3.10.18"
  }
 },
 "nbformat": 4,
 "nbformat_minor": 5
}
