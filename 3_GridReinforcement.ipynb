{
 "cells": [
  {
   "cell_type": "code",
   "execution_count": 1,
   "id": "fd833820-2927-4c67-a495-705593362a2c",
   "metadata": {
    "tags": []
   },
   "outputs": [
    {
     "name": "stdout",
     "output_type": "stream",
     "text": [
      "Successfully loaded network data.\n",
      "Successfully loaded and indexed all profiles data.\n",
      "Successfully loaded grid reinforcement costs.\n"
     ]
    }
   ],
   "source": [
    "import pandas as pd\n",
    "import numpy as np\n",
    "import networkx as nx\n",
    "import re\n",
    "import pickle\n",
    "\n",
    "\n",
    "from src.visualization import (\n",
    "    visualize_network_topology,\n",
    "    visualize_network_with_failures,\n",
    "    visualize_grid_improvement\n",
    ")\n",
    "\n",
    "from src.functions import (\n",
    "    build_and_simplify_network,\n",
    "    find_failures_with_yearly_profile,\n",
    "    suggest_grid_reinforcement,\n",
    "    print_analysis_results,\n",
    ")\n",
    "\n",
    "\n",
    "# --- Start: Loading and Preparing the Data ---\n",
    "data_path = \"../challenge-data/edih-data/\"\n",
    "\n",
    "\n",
    "file_path = data_path + \"250827_all_stations_anon_correct.csv\"\n",
    "df_full = pd.read_csv(file_path)\n",
    "print(\"Successfully loaded network data.\")\n",
    "\n",
    "\n",
    "profiles_path = data_path + \"data_parquet/\"\n",
    "df_consumption = pd.read_parquet(profiles_path + \"base_consumption.parquet\").set_index('timestamp')\n",
    "df_pv = pd.read_parquet(profiles_path + \"pv_profiles.parquet\").set_index('timestamp')\n",
    "df_ev = pd.read_parquet(profiles_path + \"ev_profiles.parquet\").set_index('timestamp')\n",
    "df_hp = pd.read_parquet(profiles_path + \"hp_profiles.parquet\").set_index('timestamp')\n",
    "print(\"Successfully loaded and indexed all profiles data.\")\n",
    "\n",
    "\n",
    "df_reinforcement = pd.read_csv(data_path + \"190923_Einheitskosten_Invest.csv\")\n",
    "print(\"Successfully loaded grid reinforcement costs.\")"
   ]
  },
  {
   "cell_type": "code",
   "execution_count": 2,
   "id": "3a0bcdde-1250-40af-9896-33fea3e4f50f",
   "metadata": {
    "tags": []
   },
   "outputs": [
    {
     "name": "stdout",
     "output_type": "stream",
     "text": [
      "Successfully calculated net load profile.\n"
     ]
    }
   ],
   "source": [
    "NOMINAL_VOLTAGE = 400.0\n",
    "#df_net_load = df_consumption.add(df_ev, fill_value=0).add(df_hp, fill_value=0).subtract(df_pv, fill_value=0)\n",
    "df_net_load = df_consumption.copy()\n",
    "print(\"Successfully calculated net load profile.\")"
   ]
  },
  {
   "cell_type": "code",
   "execution_count": 3,
   "id": "5e91188f-a57c-4c5f-b731-5892e4520306",
   "metadata": {
    "tags": []
   },
   "outputs": [
    {
     "name": "stdout",
     "output_type": "stream",
     "text": [
      "Use the dropdown below to select a station for a full grid analysis.\n"
     ]
    },
    {
     "data": {
      "application/vnd.jupyter.widget-view+json": {
       "model_id": "d96cf24b5dd74c67b86bfd5b137f9672",
       "version_major": 2,
       "version_minor": 0
      },
      "text/plain": [
       "Dropdown(description='Select Station:', options=('station_1', 'station_2', 'station_3', 'station_4', 'station_…"
      ]
     },
     "metadata": {},
     "output_type": "display_data"
    },
    {
     "data": {
      "application/vnd.jupyter.widget-view+json": {
       "model_id": "5e679a0435164532a5f194f6c5b0dc3e",
       "version_major": 2,
       "version_minor": 0
      },
      "text/plain": [
       "Output()"
      ]
     },
     "metadata": {},
     "output_type": "display_data"
    }
   ],
   "source": [
    "# ==============================================================================\n",
    "# --- JUPYTER-FRIENDLY INTERACTIVE WIDGETS ---\n",
    "# ==============================================================================\n",
    "import ipywidgets as widgets\n",
    "from IPython.display import display, clear_output\n",
    "import pandas as pd\n",
    "\n",
    "# Get a list of all unique stations\n",
    "all_stations = sorted(df_full['station'].unique())\n",
    "\n",
    "# 1. Create the dropdown widget\n",
    "station_dropdown = widgets.Dropdown(\n",
    "    options=all_stations,\n",
    "    description='Select Station:',\n",
    "    value=all_stations[0] if all_stations else None,\n",
    "    disabled=False,\n",
    ")\n",
    "\n",
    "# 2. Create an output widget to hold the prints and plots\n",
    "output_area = widgets.Output()\n",
    "\n",
    "# 3. Define the function that runs when the dropdown value changes\n",
    "def on_station_change(change):\n",
    "    selected_station = change['new']\n",
    "    \n",
    "    with output_area:\n",
    "        clear_output(wait=True)\n",
    "        print(f\"--- Running full analysis for station: '{selected_station}' ---\")\n",
    "        \n",
    "        # --- STEP 1: Build the network for the selected station ---\n",
    "        df_one_station = df_full[df_full['station'] == selected_station].copy()\n",
    "        G, consumer_props, roots = build_and_simplify_network(df_one_station)\n",
    "        \n",
    "        print(\"\\n--- Basic Network Info ---\")\n",
    "        print(f\"Simplified graph has {G.number_of_nodes()} nodes and {G.number_of_edges()} edges.\")\n",
    "        print(f\"Identified {len(roots)} root node(s): {roots}\")\n",
    "        print(f\"Found properties for {len(consumer_props)} unique consumers.\")\n",
    "        \n",
    "        print(\"\\n--- 1. Initial Network Topology ---\")\n",
    "        visualize_network_topology(\n",
    "            graph=G, \n",
    "            root_node_ids=roots, \n",
    "            optimize_space=True,\n",
    "            station_name=selected_station\n",
    "        )\n",
    "        \n",
    "        # --- STEP 2: Run dynamic profile-based analysis to find failures ---\n",
    "        print(\"\\n\" + \"=\"*50)\n",
    "        print(\"Running yearly profile analysis to check for failures...\")\n",
    "        dynamic_results = find_failures_with_yearly_profile(\n",
    "            graph=G,\n",
    "            net_profile_df=df_net_load,\n",
    "            consumer_props=consumer_props,\n",
    "            root_node_ids=roots,\n",
    "            nominal_voltage=NOMINAL_VOLTAGE\n",
    "        )\n",
    "        print_analysis_results(\"2. RESULTS: Dynamic Yearly Profile Analysis\", dynamic_results)\n",
    "        \n",
    "        # --- STEP 3: Suggest grid reinforcement if needed ---\n",
    "        print(\"\\n\" + \"=\"*50)\n",
    "        print(\"Calculating suggested grid reinforcements...\")\n",
    "        reinforcement_results = suggest_grid_reinforcement(\n",
    "            initial_graph=G,\n",
    "            initial_results=dynamic_results,\n",
    "            reinforcement_costs_df=df_reinforcement,\n",
    "            net_profile_df=df_net_load,\n",
    "            consumer_props=consumer_props,\n",
    "            root_node_ids=roots,\n",
    "            nominal_voltage=NOMINAL_VOLTAGE\n",
    "        )\n",
    "        \n",
    "        # Display the final plan and cost\n",
    "        print(\"\\n\" + \"#\"*40 + \"\\n### 3. FINAL REINFORCEMENT SUMMARY ###\\n\" + \"#\"*40)\n",
    "        print(f\"\\nFinal Status: {reinforcement_results['status']}\")\n",
    "        print(f\"Total Estimated Cost: {reinforcement_results['total_cost_CHF']:.2f} CHF\")\n",
    "        \n",
    "        if 'reinforcement_plan' in reinforcement_results and not reinforcement_results['reinforcement_plan'].empty:\n",
    "            print(\"\\nRecommended Reinforcement Actions:\")\n",
    "            display(reinforcement_results['reinforcement_plan'])\n",
    "        else:\n",
    "            print(\"\\nNo reinforcement actions were needed or suggested.\")\n",
    "            \n",
    "        # --- STEP 4: Visualize the grid improvement (Before vs. After) ---\n",
    "        # Only show this visualization if the reinforcement was successful and there was a plan\n",
    "        if (reinforcement_results['status'] == 'Success' and \n",
    "            'reinforcement_plan' in reinforcement_results and \n",
    "            not reinforcement_results['reinforcement_plan'].empty):\n",
    "            \n",
    "            print(\"\\n\" + \"#\"*40 + \"\\n### 4. VISUALIZATION: Grid Improvement ###\\n\" + \"#\"*40)\n",
    "            visualize_grid_improvement(\n",
    "                initial_graph=G,\n",
    "                initial_failures=dynamic_results['link_failures'],\n",
    "                reinforced_graph=reinforcement_results['reinforced_graph'],\n",
    "                reinforcement_plan=reinforcement_results['reinforcement_plan'],\n",
    "                root_node_ids=roots,\n",
    "                total_cost=reinforcement_results['total_cost_CHF'],\n",
    "                optimize_space=True,\n",
    "                station_name=selected_station\n",
    "            )\n",
    "        else:\n",
    "            print(\"\\n\" + \"#\"*40 + \"\\n### 4. VISUALIZATION: Grid Failures ###\\n\" + \"#\"*40)\n",
    "            visualize_network_with_failures(\n",
    "                graph=G,\n",
    "                root_node_id=roots,\n",
    "                link_failures=dynamic_results[\"link_failures\"],\n",
    "                fuse_failures=dynamic_results[\"fuse_failures\"],\n",
    "                optimize_space=True,\n",
    "                station_name=selected_station\n",
    "            )\n",
    "\n",
    "# 4. Link the function to the dropdown widget\n",
    "station_dropdown.observe(on_station_change, names='value')\n",
    "\n",
    "# 5. Display the UI and run the analysis for the initial default value\n",
    "print(\"Use the dropdown below to select a station for a full grid analysis.\")\n",
    "display(station_dropdown, output_area)\n",
    "\n",
    "if station_dropdown.value:\n",
    "    on_station_change({'new': station_dropdown.value})"
   ]
  },
  {
   "cell_type": "code",
   "execution_count": null,
   "id": "69f333c3-00df-4811-ad73-8844d12b337f",
   "metadata": {},
   "outputs": [],
   "source": []
  }
 ],
 "metadata": {
  "environment": {
   "kernel": "edh-hackathon-env",
   "name": "workbench-notebooks.m129",
   "type": "gcloud",
   "uri": "us-docker.pkg.dev/deeplearning-platform-release/gcr.io/workbench-notebooks:m129"
  },
  "kernelspec": {
   "display_name": "EDH Hackathon (Conda) (Local)",
   "language": "python",
   "name": "edh-hackathon-env"
  },
  "language_info": {
   "codemirror_mode": {
    "name": "ipython",
    "version": 3
   },
   "file_extension": ".py",
   "mimetype": "text/x-python",
   "name": "python",
   "nbconvert_exporter": "python",
   "pygments_lexer": "ipython3",
   "version": "3.10.18"
  }
 },
 "nbformat": 4,
 "nbformat_minor": 5
}
